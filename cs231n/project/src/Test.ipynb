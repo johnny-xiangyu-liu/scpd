{
 "cells": [
  {
   "cell_type": "code",
   "execution_count": null,
   "id": "a9a0eed0",
   "metadata": {},
   "outputs": [],
   "source": [
    "import torch\n",
    "import torch.nn as nn\n",
    "import torch.optim as optim\n",
    "from torch.utils.data import DataLoader\n",
    "from torch.utils.data import sampler\n",
    "\n",
    "import torchvision as tv\n",
    "import torchvision.datasets as dset\n",
    "import torchvision.transforms as T\n",
    "from torchvision import tv_tensors  # we'll describe this a bit later, bare with us\n",
    "\n",
    "import torchvision.datasets as datasets\n",
    "from pathlib import Path\n",
    "\n",
    "from torchview import draw_graph\n",
    "from pathlib import Path\n",
    "\n",
    "import constants\n",
    "import dataset\n",
    "import util\n",
    "import json\n",
    "import pandas as pd\n",
    "import models \n",
    "from models import VQANet\n",
    "import matplotlib.pyplot as plt\n",
    "import numpy as np\n",
    "import time\n",
    "import gc\n",
    "from datetime import datetime\n",
    "\n",
    "from transformers import AutoTokenizer\n",
    "import traceback\n",
    "\n",
    "USE_GPU = True\n",
    "dtype = torch.float32 # We will be using float throughout this tutorial.\n",
    "\n",
    "if USE_GPU and torch.cuda.is_available():\n",
    "    device = torch.device('cuda')\n",
    "elif torch.backends.mps.is_available():      \n",
    "    device = 'mps'                         \n",
    "else:\n",
    "    device = torch.device('cpu')\n",
    "from resumable_dataset import ResumableDataset\n",
    "\n",
    "\n",
    "print('using device:', device)\n",
    "    \n",
    "\n"
   ]
  },
  {
   "cell_type": "code",
   "execution_count": null,
   "id": "5b4ba1fe",
   "metadata": {},
   "outputs": [],
   "source": [
    "\n",
    "%load_ext autoreload\n",
    "%autoreload 2"
   ]
  },
  {
   "cell_type": "code",
   "execution_count": null,
   "id": "63f899cd",
   "metadata": {},
   "outputs": [],
   "source": [
    "test = dataset.Coco(\"test\")\n",
    "val = dataset.Coco(\"validation\")\n"
   ]
  },
  {
   "cell_type": "code",
   "execution_count": null,
   "id": "20a5b6e2",
   "metadata": {},
   "outputs": [],
   "source": [
    "print(len(val))\n",
    "print(len(test))"
   ]
  },
  {
   "cell_type": "code",
   "execution_count": null,
   "id": "8bcd163c",
   "metadata": {
    "scrolled": false
   },
   "outputs": [],
   "source": [
    "if False: # debug\n",
    "    img = train.__getitem__(1)\n",
    "    print(img)\n",
    "    print(img.image_id)\n",
    "    print(img.image_path)\n",
    "\n",
    "    print(\">>>>\")\n",
    "    print(img.captions())\n",
    "\n",
    "    print(\">>>>\")\n",
    "    print(img.qa())\n",
    "    print(\"shape\", img.image_tensor().shape)\n",
    "\n",
    "    show([img.image_tensor()])\n",
    "\n",
    "#plt.imshow(  img.image_tensor().permute(1, 2, 0)  )\n"
   ]
  },
  {
   "cell_type": "code",
   "execution_count": null,
   "id": "b8c5f1ee",
   "metadata": {},
   "outputs": [],
   "source": [
    "tokenizer  = AutoTokenizer.from_pretrained(\"google-bert/bert-base-uncased\")\n",
    "# Add the Q and A token as special token\n",
    "tokenizer.add_special_tokens(constants.QA_TOKEN_DICT)"
   ]
  },
  {
   "cell_type": "code",
   "execution_count": null,
   "id": "1aac9ba8",
   "metadata": {},
   "outputs": [],
   "source": [
    "from imagedata import get_image\n",
    "\n",
    "def path_to_image(paths, device):\n",
    "    result = []\n",
    "    for p in paths:\n",
    "        result.append(get_image(path, device))\n",
    "    image = torch.stack(result, dim = 0).to(device)\n",
    "    print(\"image shape\", image.shape)\n",
    "    return image\n",
    "    \n",
    "def collate_fn2(batch):\n",
    "    result = {}\n",
    "    \n",
    "    result['image_ids'] = []\n",
    "    result['image_paths'] = []\n",
    "    result['c2i'] = [] # index for images for a given caption. same len as 'caption'\n",
    "    result['qa2i'] = [] # index of corresponding image for a given qa. same len as 'qa'\n",
    "    result['q_id'] = [] # id of the questions 'qa'\n",
    "    \n",
    "    \n",
    "    target  = [] # the corresponding target for the qa.\n",
    "    raw_captions = []  # plain text \n",
    "    raw_qa = []   # plain text\n",
    "    raw_qids = []   # question ids\n",
    "    for idx, data in enumerate(batch):\n",
    "        result['image_ids'].append(data.image_id)\n",
    "        result['image_paths'].append(data.image_path)\n",
    "        caption_list = data.captions()\n",
    "        if caption_list is not None:\n",
    "            raw_captions += caption_list\n",
    "            for c in range(len(caption_list)):\n",
    "                result['c2i'].append(idx)\n",
    "        \n",
    "        qa_list = data.qa()\n",
    "        q_id_list = data.qids()\n",
    "        if qa_list is not None:\n",
    "            raw_qa += qa_list\n",
    "            raw_qids += q_id_list\n",
    "            for c in range(len(qa_list)):\n",
    "                result['qa2i'].append(idx)\n",
    "    #print(\"raw_cap\", len(raw_captions))\n",
    "    #print(\"raw_qa\", len(raw_qa))\n",
    "    \n",
    "    result['raw_cap'] = raw_captions\n",
    "    result['captions'] = None if len(raw_captions) == 0 else \\\n",
    "                                tokenizer(raw_captions, padding='max_length',truncation=True,  max_length=32, return_tensors=\"pt\").to(device)\n",
    "#    print('captions:', result['captions'])\n",
    "    result['raw_qa'] = raw_qa\n",
    "    result['qids'] = raw_qids\n",
    "    if len(raw_qa) != 0:\n",
    "#        print(\"raw_qa:\", raw_qa)\n",
    "        result['qa'] =  tokenizer(raw_qa, padding='max_length', truncation=True, max_length=32, return_tensors=\"pt\")['input_ids'].to(device, dtype=torch.int64)\n",
    "#        print('qa:', result['qa'])\n",
    "\n",
    "        end_padding = torch.broadcast_to(torch.zeros(1), (result['qa'].shape[0], 1)).to(device, dtype=torch.int64)\n",
    "        #print(end_padding.shape)\n",
    "        # return a shape {seq, batch}\n",
    "        target = torch.column_stack((result['qa'][:, 1:], end_padding)).transpose(0, 1)\n",
    "    else:\n",
    "        result['qa'] = None\n",
    "        target = None\n",
    "    return result, target\n"
   ]
  },
  {
   "cell_type": "code",
   "execution_count": null,
   "id": "ace42ba3",
   "metadata": {},
   "outputs": [],
   "source": [
    "from torch.utils.data import DataLoader\n",
    "batch_size = 32\n",
    "fn = collate_fn2 \n",
    "shuffle = False\n",
    "test_dataloader = DataLoader(test, batch_size=batch_size, shuffle=shuffle, collate_fn=fn)\n",
    "#val_dataloader = DataLoader(val, batch_size=batch_size, shuffle=shuffle, collate_fn=fn)"
   ]
  },
  {
   "cell_type": "code",
   "execution_count": null,
   "id": "dbc57cdd",
   "metadata": {
    "scrolled": false
   },
   "outputs": [],
   "source": [
    "def get_answers(x):\n",
    "    qa = x[\"qa\"]\n",
    "    answer_token_id = tokenizer.convert_tokens_to_ids(constants.ANSWER_TOKEN)\n",
    "\n",
    "    answer_start =  (qa == answer_token_id).nonzero()\n",
    "    mask = torch.zeros_like(qa)\n",
    "    mask[answer_start[:, 0], answer_start[:, 1]] = 1\n",
    "    # fill the elements after the [ANSWER] token to be 1.\n",
    "    mask = mask.cumsum(dim=1)\n",
    "    just_answers = qa * mask\n",
    "    return tokenizer.batch_decode(just_answers, skip_special_tokens = True)\n",
    "    "
   ]
  },
  {
   "cell_type": "code",
   "execution_count": null,
   "id": "ac3076c0",
   "metadata": {},
   "outputs": [],
   "source": [
    "def create_output(x, answers):\n",
    "    result = []\n",
    "    qids = x['qids']\n",
    "    assert len(qids) == len(answers)\n",
    "    for i in range(len(qids)):\n",
    "        d = {\"question_id\" : qids[i], \"answer\": answers[i]}\n",
    "        result.append(d)\n",
    "    return result"
   ]
  },
  {
   "cell_type": "code",
   "execution_count": null,
   "id": "5a2a0810",
   "metadata": {},
   "outputs": [],
   "source": [
    "import json\n",
    "\n",
    "def run_test(name, dataloader , model, early_terminate = None,\n",
    "             sync_after_every_n = 200, print_every = 10, pre_result = []):\n",
    "    with torch.no_grad():\n",
    "        model.eval()\n",
    "        result = pre_result\n",
    "        print(\"loading preresults:\", len(result))\n",
    "        for idx, (x, target) in enumerate(dataloader):\n",
    "            should_print = print_every is not None and (print_every == 1 or idx % (print_every -1) == 0)\n",
    "            if should_print:\n",
    "                print(\">>>> Batch # \", idx,  x['image_ids'] )\n",
    "            if early_terminate is not None:\n",
    "                if idx > early_terminate - 1:\n",
    "                    print(\"early terminating. at \", idx)\n",
    "                    break;\n",
    "            image_embedding_for_captions, captions_embedding, output_logits = None, None, None\n",
    "\n",
    "            try:\n",
    "                answers = model.answer(x, device, max_length = 30)\n",
    "                real_answers = get_answers(answers)\n",
    "                out = create_output(x, real_answers)\n",
    "                if should_print:\n",
    "                    print(\">>>> Batch Output # \", out)\n",
    "\n",
    "                result += out\n",
    "                if should_print:\n",
    "                    print(\"result size:\", len(result))\n",
    "\n",
    "            except Exception as e:\n",
    "                print(\">>>> FAILED! Batch # \", idx,  x['image_ids'])\n",
    "                print(f\"current mps allocated memory: {torch.mps.current_allocated_memory()}\")\n",
    "                print(f\"current mps driver allocated memory: {torch.mps.driver_allocated_memory()}\")\n",
    "                traceback.print_exc()\n",
    "                return\n",
    "                \n",
    "            if sync_after_every_n is not None and (idx + 1) % sync_after_every_n == 0:\n",
    "                print(\"=========== mps sync, gc, and mps empty cache and reload ==========\")\n",
    "                print(f\"current mps allocated memory: {torch.mps.current_allocated_memory()}\")\n",
    "                print(f\"current mps driver allocated memory: {torch.mps.driver_allocated_memory()}\")\n",
    "                gc.collect()\n",
    "                torch.mps.synchronize()\n",
    "                torch.mps.empty_cache()\n",
    "                torch.mps.synchronize()\n",
    "                print(\"after empyt cache\")\n",
    "                print(f\"current mps allocated memory: {torch.mps.current_allocated_memory()}\")\n",
    "                print(f\"current mps driver allocated memory: {torch.mps.driver_allocated_memory()}\")\n",
    "                print(\">>>> Batch # \", idx, \" >>>> Storing JSON data ending with result:\", len(result) )\n",
    "                with open(constants.TEST_OUTPUT.joinpath(name), 'w+') as f:\n",
    "                    json.dump(result, f)\n",
    "        with open(constants.TEST_OUTPUT.joinpath(name), 'w+') as f:\n",
    "            json.dump(result, f)"
   ]
  },
  {
   "cell_type": "code",
   "execution_count": null,
   "id": "d450fca9",
   "metadata": {
    "scrolled": true
   },
   "outputs": [],
   "source": [
    "from torch.utils.tensorboard import SummaryWriter\n",
    "\n",
    "def reload_model(lr, name, use_captions):\n",
    "    model = VQANet(tokenizer, use_captions).to(device)\n",
    "    optimizer = torch.optim.SGD(model.parameters(), lr=lr, momentum=0.9)\n",
    "    if name is not None:\n",
    "        checkpoint = torch.load(constants.MODEL_OUT_PATH.joinpath(name))\n",
    "        model.load_state_dict(checkpoint['model_state_dict'])\n",
    "        optimizer.load_state_dict(checkpoint['optimizer_state_dict'])\n",
    "        model.to(device)\n",
    "    return model, optimizer\n",
    "\n",
    "if False:\n",
    "    model_name = \"train-vqa_with_caption_Jun02_17-27-12-epoch-0-batch-1949\"\n",
    "    model, _ = reload_model(0.1, model_name, use_captions= False)\n",
    "    run_test(f'val_first_50_model_shuffle_{model_name}', val_dataloader, model, early_terminate= 50, print_every = 10, sync_after_every_n = 50)"
   ]
  },
  {
   "cell_type": "code",
   "execution_count": null,
   "id": "b00fc6d2",
   "metadata": {
    "scrolled": true
   },
   "outputs": [],
   "source": [
    "\n",
    "if False:\n",
    "    model_name = \"train-vqa_no_caption_Jun03_02-34-26\"\n",
    "    model, _ = reload_model(0.1, model_name, use_captions= False)\n",
    "    run_test(f'val_first_50_model_shuffle_{model_name}', val_dataloader, model, early_terminate= 50, print_every = 10, sync_after_every_n = 50)"
   ]
  },
  {
   "cell_type": "code",
   "execution_count": null,
   "id": "3a447f15",
   "metadata": {},
   "outputs": [],
   "source": [
    "if False:\n",
    "    model_name = \"train-vqa_with_caption_Jun02_17-27-12-epoch-0-batch-1949\"\n",
    "    model, _ = reload_model(0.1, model_name, use_captions= False)\n",
    "    run_test(f'val_200_model_shuffle_{model_name}', val_dataloader, model, early_terminate= 200, print_every = 10, sync_after_every_n = 50)"
   ]
  },
  {
   "cell_type": "code",
   "execution_count": null,
   "id": "1f9392b9",
   "metadata": {},
   "outputs": [],
   "source": [
    "\n",
    "if False:\n",
    "    model_name = \"train-vqa_no_caption_Jun03_02-34-26\"\n",
    "    model, _ = reload_model(0.1, model_name, use_captions= False)\n",
    "    run_test(f'val_200_model_shuffle_{model_name}', val_dataloader, model, early_terminate= 200, print_every = 10, sync_after_every_n = 50)"
   ]
  },
  {
   "cell_type": "code",
   "execution_count": null,
   "id": "b9004c78",
   "metadata": {
    "scrolled": true
   },
   "outputs": [],
   "source": [
    "if False:\n",
    "    et = 1000\n",
    "    model_name = \"train-vqa_with_caption_Jun02_17-27-12-epoch-0-batch-1949\"\n",
    "    model, _ = reload_model(0.1, model_name, use_captions= False)\n",
    "    run_test(f'val_{et}_model_shuffle_{model_name}', val_dataloader, model,\n",
    "             early_terminate= et, print_every = 10, sync_after_every_n = 50)"
   ]
  },
  {
   "cell_type": "code",
   "execution_count": null,
   "id": "ae776c25",
   "metadata": {},
   "outputs": [],
   "source": [
    "if False:\n",
    "    et = 5000\n",
    "    model_name = \"train-vqa_no_caption_Jun03_02-34-26\"\n",
    "    model, _ = reload_model(0.1, model_name, use_captions= False)\n",
    "    run_test(f'val_{et}_model_shuffle_{model_name}', val_dataloader, model,\n",
    "             early_terminate= et, print_every = 10, sync_after_every_n = 50)"
   ]
  },
  {
   "cell_type": "code",
   "execution_count": null,
   "id": "24b6297f",
   "metadata": {
    "scrolled": true
   },
   "outputs": [],
   "source": [
    "if False: # Done\n",
    "    et = None\n",
    "    dataloader = test_dataloader\n",
    "    model_name = \"train-vqa_with_caption_Jun02_17-27-12-epoch-0-batch-1949\"\n",
    "    model, _ = reload_model(0.1, model_name, use_captions= False)\n",
    "    run_test(f'test_{et}_model_shuffle_{model_name}', dataloader, model,\n",
    "             early_terminate= et, print_every = 10, sync_after_every_n = 50)"
   ]
  },
  {
   "cell_type": "code",
   "execution_count": null,
   "id": "3d342561",
   "metadata": {
    "scrolled": false
   },
   "outputs": [],
   "source": [
    "if False:  # Done\n",
    "    et = None\n",
    "    model_name = \"train-vqa_with_caption_Jun02_17-27-12-epoch-0-batch-1949\"\n",
    "    test = dataset.VqaCoco()\n",
    "    dataset = ResumableDataset(test, existing_answer_name = \"test_None_model_shuffle_train-vqa_with_caption_Jun02_17-27-12-epoch-0-batch-1949\")\n",
    "    dataloader = DataLoader(dataset, batch_size=batch_size, shuffle=shuffle, collate_fn=fn)\n",
    "    model, _ = reload_model(0.1, model_name, use_captions= False)\n",
    "    run_test(f'test_{et}_model_shuffle_{model_name}', dataloader, model,\n",
    "            early_terminate= et, print_every = 10, sync_after_every_n = 50, pre_result = dataset.answers)\n",
    "    "
   ]
  },
  {
   "cell_type": "code",
   "execution_count": null,
   "id": "54901661",
   "metadata": {
    "scrolled": false
   },
   "outputs": [],
   "source": [
    "if False:  # TODO turn this back to true\n",
    "    et = None\n",
    "    dataloader = test_dataloader\n",
    "    model_name = \"train-vqa_no_caption_Jun03_02-34-26\"\n",
    "    model, _ = reload_model(0.1, model_name, use_captions= False)\n",
    "    run_test(f'test_{et}_model_shuffle_{model_name}', dataloader, model,\n",
    "             early_terminate= et, print_every = 10, sync_after_every_n = 50)"
   ]
  },
  {
   "cell_type": "code",
   "execution_count": 22,
   "id": "c0e31f81",
   "metadata": {},
   "outputs": [
    {
     "name": "stdout",
     "output_type": "stream",
     "text": [
      ">>>> Batch Output #  [{'question_id': 228740000, 'answer': 'red'}, {'question_id': 228740001, 'answer': '2'}, {'question_id': 393022001, 'answer': '2'}, {'question_id': 142610004, 'answer': 'cow'}, {'question_id': 142610001, 'answer': 'cow'}, {'question_id': 454149013, 'answer': 'water'}, {'question_id': 454149018, 'answer': '2'}, {'question_id': 454149056, 'answer': 'yes'}, {'question_id': 454149004, 'answer': '2'}, {'question_id': 454149065, 'answer': 'water'}, {'question_id': 454149017, 'answer': '2'}, {'question_id': 454149050, 'answer': 'yes'}, {'question_id': 454149010, 'answer': 'yes'}, {'question_id': 454149080, 'answer': 'red'}, {'question_id': 454149057, 'answer': 'yes'}, {'question_id': 454149038, 'answer': 'giraffe'}, {'question_id': 454149011, 'answer': 'yes'}, {'question_id': 454149047, 'answer': '2'}, {'question_id': 454149070, 'answer': 'yes'}, {'question_id': 454149086, 'answer': 'water'}, {'question_id': 454149062, 'answer': 'in water'}, {'question_id': 454149032, 'answer': 'giraffe'}, {'question_id': 454149076, 'answer': 'yes'}, {'question_id': 454149085, 'answer': 'trees'}, {'question_id': 454149087, 'answer': 'yes'}, {'question_id': 454149003, 'answer': '2'}, {'question_id': 454149015, 'answer': 'yes'}, {'question_id': 148616003, 'answer': 'yes'}, {'question_id': 134824016, 'answer': 'yes'}, {'question_id': 134824022, 'answer': 'white'}, {'question_id': 134824001, 'answer': 'yes'}, {'question_id': 134824035, 'answer': 'yes'}, {'question_id': 134824042, 'answer': 'yes'}, {'question_id': 134824050, 'answer': 'bird'}, {'question_id': 134824013, 'answer': 'yes'}, {'question_id': 134824045, 'answer': 'yes'}, {'question_id': 134824000, 'answer': '12 : 10'}, {'question_id': 134824017, 'answer': 'yes'}, {'question_id': 134824005, 'answer': 'water'}, {'question_id': 386083008, 'answer': 'yes'}, {'question_id': 386083002, 'answer': 'sunny'}, {'question_id': 386083003, 'answer': 'yes'}, {'question_id': 386083013, 'answer': 'yes'}, {'question_id': 517637001, 'answer': 'airplane'}, {'question_id': 179035002, 'answer': 'banana'}, {'question_id': 429125020, 'answer': '2'}, {'question_id': 429125025, 'answer': '2'}, {'question_id': 429125028, 'answer': 'standing'}, {'question_id': 429125021, 'answer': 'yes'}, {'question_id': 429125024, 'answer': 'sunny'}, {'question_id': 429125017, 'answer': 'helmet'}, {'question_id': 429125018, 'answer': 'yes'}, {'question_id': 429125015, 'answer': 'yes'}, {'question_id': 429125019, 'answer': '2'}, {'question_id': 429125001, 'answer': 'sunny'}, {'question_id': 397485008, 'answer': 'frisbee'}, {'question_id': 397485003, 'answer': 'in front'}, {'question_id': 397485009, 'answer': 'tennis'}, {'question_id': 139777004, 'answer': 'tennis racket'}, {'question_id': 139777003, 'answer': 'hat'}, {'question_id': 415609000, 'answer': '2'}, {'question_id': 415609001, 'answer': 'standing'}, {'question_id': 254975003, 'answer': 'grass'}, {'question_id': 27004, 'answer': 'yes'}, {'question_id': 27008, 'answer': 'yes'}, {'question_id': 27006, 'answer': 'red'}, {'question_id': 27002, 'answer': 'on top'}, {'question_id': 249477001, 'answer': 'yes'}, {'question_id': 297923062, 'answer': 'red'}, {'question_id': 297923004, 'answer': 'yes'}, {'question_id': 297923026, 'answer': 'yes'}, {'question_id': 297923038, 'answer': 'yes'}, {'question_id': 297923059, 'answer': '2'}, {'question_id': 297923068, 'answer': 'yes'}, {'question_id': 297923036, 'answer': 'yes'}, {'question_id': 297923033, 'answer': 'train'}, {'question_id': 297923070, 'answer': 'red'}, {'question_id': 297923073, 'answer': 'train'}, {'question_id': 297923069, 'answer': 'red'}, {'question_id': 297923049, 'answer': '12 : 20'}, {'question_id': 297923042, 'answer': 'yes'}, {'question_id': 297923027, 'answer': 'train'}, {'question_id': 297923020, 'answer': 'yes'}, {'question_id': 297923019, 'answer': 'yes'}, {'question_id': 297923051, 'answer': 'yes'}, {'question_id': 297923046, 'answer': 'walking'}, {'question_id': 297923011, 'answer': 'airport'}, {'question_id': 372368029, 'answer': 'yes'}, {'question_id': 372368034, 'answer': 'yes'}, {'question_id': 372368022, 'answer': 'white'}, {'question_id': 372368027, 'answer': 'white'}, {'question_id': 372368015, 'answer': 'yes'}, {'question_id': 372368002, 'answer': 'no'}, {'question_id': 205800001, 'answer': 'giraffe'}, {'question_id': 246893005, 'answer': 'red'}, {'question_id': 246893001, 'answer': 'standing'}, {'question_id': 173767046, 'answer': 'bus'}, {'question_id': 173767094, 'answer': 'yes'}, {'question_id': 173767011, 'answer': 'yes'}, {'question_id': 173767070, 'answer': 'yes'}, {'question_id': 173767040, 'answer': 'yes'}, {'question_id': 173767080, 'answer': 'people'}, {'question_id': 173767005, 'answer': 'on street'}, {'question_id': 173767019, 'answer': 'yes'}, {'question_id': 173767001, 'answer': 'yes'}, {'question_id': 173767103, 'answer': 'right'}, {'question_id': 173767069, 'answer': 'yes'}, {'question_id': 173767017, 'answer': 'yes'}, {'question_id': 173767102, 'answer': 'yes'}, {'question_id': 173767060, 'answer': 'none'}, {'question_id': 173767025, 'answer': 'skateboard'}, {'question_id': 173767056, 'answer': 'bus'}, {'question_id': 173767015, 'answer': 'umbrella'}, {'question_id': 173767052, 'answer': 'umbrella'}, {'question_id': 173767008, 'answer': 'skateboarding'}, {'question_id': 173767101, 'answer': 'yes'}, {'question_id': 173767054, 'answer': 'none'}, {'question_id': 173767048, 'answer': 'on street'}, {'question_id': 173767051, 'answer': 'yes'}, {'question_id': 173767066, 'answer': 'yes'}, {'question_id': 173767085, 'answer': 'yes'}, {'question_id': 173767039, 'answer': 'yes'}, {'question_id': 173767016, 'answer': 'bus'}, {'question_id': 173767030, 'answer': '2'}, {'question_id': 173767092, 'answer': 'yes'}, {'question_id': 571480003, 'answer': '2'}, {'question_id': 571480020, 'answer': '2'}, {'question_id': 571480022, 'answer': 'wii'}, {'question_id': 571480008, 'answer': 'woman'}, {'question_id': 571480001, 'answer': 'wood'}, {'question_id': 279876007, 'answer': '2'}, {'question_id': 309731002, 'answer': 'wood'}, {'question_id': 290029003, 'answer': 'water'}, {'question_id': 290029007, 'answer': 'yes'}, {'question_id': 45821003, 'answer': 'tile'}, {'question_id': 73670005, 'answer': 'yes'}, {'question_id': 73670006, 'answer': 'phone'}, {'question_id': 73670014, 'answer': '2'}, {'question_id': 73670009, 'answer': 'yes'}, {'question_id': 73670004, 'answer': 'yes'}, {'question_id': 452340006, 'answer': 'yes'}, {'question_id': 452340003, 'answer': 'water'}, {'question_id': 452340005, 'answer': 'water'}, {'question_id': 452340009, 'answer': 'water'}, {'question_id': 168934010, 'answer': 'stop'}, {'question_id': 168934000, 'answer': 'yes'}, {'question_id': 168934011, 'answer': 'stop'}, {'question_id': 168934003, 'answer': 'stop'}, {'question_id': 293556015, 'answer': 'vase'}, {'question_id': 293556017, 'answer': 'yes'}, {'question_id': 293556018, 'answer': 'banana'}, {'question_id': 580103005, 'answer': 'stop'}, {'question_id': 580103038, 'answer': 'yes'}, {'question_id': 580103001, 'answer': 'left'}, {'question_id': 580103028, 'answer': 'stop'}, {'question_id': 580103024, 'answer': 'city'}, {'question_id': 580103003, 'answer': 'red and white'}, {'question_id': 580103009, 'answer': 'left'}, {'question_id': 580103006, 'answer': 'stop'}, {'question_id': 580103012, 'answer': 'stop'}, {'question_id': 580103014, 'answer': 'stop'}, {'question_id': 580103026, 'answer': 'stop'}, {'question_id': 580103039, 'answer': 'left'}, {'question_id': 403843015, 'answer': 'wine'}, {'question_id': 403843011, 'answer': 'yes'}, {'question_id': 403843005, 'answer': 'sitting'}, {'question_id': 403843006, 'answer': 'banana'}, {'question_id': 403843010, 'answer': 'man'}, {'question_id': 403843016, 'answer': 'wood'}]\n",
      "result size: 174896\n",
      ">>>> Batch #  630 [234489, 107796, 450109, 450109, 213691, 576273, 500560, 4233, 370916, 300229, 122504, 522414, 159512, 80753, 266510, 158063, 503469, 140960, 132378, 444008, 375273, 149883, 93315, 526944, 201049, 369001, 196162, 126933, 142762, 108227, 362494, 346781]\n",
      ">>>> Batch Output #  [{'question_id': 234489009, 'answer': 'pizza'}, {'question_id': 107796002, 'answer': 'yes'}, {'question_id': 450109001, 'answer': 'truck'}, {'question_id': 450109021, 'answer': '4'}, {'question_id': 450109035, 'answer': 'yes'}, {'question_id': 450109039, 'answer': 'motorcycle'}, {'question_id': 450109017, 'answer': 'yes'}, {'question_id': 450109006, 'answer': 'yes'}, {'question_id': 450109034, 'answer': 'yes'}, {'question_id': 450109030, 'answer': 'jeans'}, {'question_id': 450109003, 'answer': '2'}, {'question_id': 450109015, 'answer': '2'}, {'question_id': 450109011, 'answer': 'motorcycle'}, {'question_id': 450109008, 'answer': 'yes'}, {'question_id': 450109032, 'answer': 'yes'}, {'question_id': 450109004, 'answer': '2'}, {'question_id': 450109001, 'answer': 'truck'}, {'question_id': 450109021, 'answer': '4'}, {'question_id': 450109035, 'answer': 'yes'}, {'question_id': 450109039, 'answer': 'motorcycle'}, {'question_id': 450109017, 'answer': 'yes'}, {'question_id': 450109006, 'answer': 'yes'}, {'question_id': 450109034, 'answer': 'yes'}, {'question_id': 450109030, 'answer': 'jeans'}, {'question_id': 450109003, 'answer': '2'}, {'question_id': 450109015, 'answer': '2'}, {'question_id': 450109011, 'answer': 'motorcycle'}, {'question_id': 450109008, 'answer': 'yes'}, {'question_id': 450109032, 'answer': 'yes'}, {'question_id': 450109004, 'answer': '2'}, {'question_id': 213691007, 'answer': 'yes'}, {'question_id': 576273003, 'answer': 'yes'}, {'question_id': 500560002, 'answer': 'airplane'}, {'question_id': 4233004, 'answer': 'water'}, {'question_id': 4233005, 'answer': 'yes'}, {'question_id': 4233000, 'answer': 'no'}, {'question_id': 370916004, 'answer': 'yes'}, {'question_id': 370916000, 'answer': 'yes'}, {'question_id': 300229001, 'answer': 'white'}, {'question_id': 300229007, 'answer': 'living room'}, {'question_id': 122504018, 'answer': 'giraffe'}, {'question_id': 122504006, 'answer': 'giraffe'}, {'question_id': 122504016, 'answer': 'giraffe'}, {'question_id': 122504019, 'answer': 'yes'}, {'question_id': 522414002, 'answer': '2'}, {'question_id': 159512004, 'answer': 'open'}, {'question_id': 159512009, 'answer': 'no'}, {'question_id': 159512010, 'answer': 'yes'}, {'question_id': 80753029, 'answer': 'standing'}, {'question_id': 80753004, 'answer': 'white'}, {'question_id': 80753006, 'answer': '2'}, {'question_id': 80753021, 'answer': 'day'}, {'question_id': 80753022, 'answer': 'yes'}, {'question_id': 80753018, 'answer': '4'}, {'question_id': 80753003, 'answer': '2'}, {'question_id': 80753011, 'answer': 'yes'}, {'question_id': 80753030, 'answer': 'yes'}, {'question_id': 80753013, 'answer': 'yes'}, {'question_id': 266510007, 'answer': 'yes'}, {'question_id': 158063001, 'answer': 'airplane'}, {'question_id': 158063008, 'answer': 'yes'}, {'question_id': 158063005, 'answer': 'airplane'}, {'question_id': 503469004, 'answer': 'airplane'}, {'question_id': 503469006, 'answer': 'airplane'}, {'question_id': 503469008, 'answer': 'airport'}, {'question_id': 503469005, 'answer': 'plane'}, {'question_id': 503469007, 'answer': 'yes'}, {'question_id': 140960007, 'answer': 'yes'}, {'question_id': 140960000, 'answer': 'yes'}, {'question_id': 132378005, 'answer': 'yes'}, {'question_id': 132378008, 'answer': 'bus'}, {'question_id': 132378000, 'answer': 'bus'}, {'question_id': 132378015, 'answer': 'right'}, {'question_id': 132378013, 'answer': 'yes'}, {'question_id': 132378009, 'answer': 'yes'}, {'question_id': 132378014, 'answer': 'bus'}, {'question_id': 132378012, 'answer': 'yes'}, {'question_id': 444008000, 'answer': 'giraffe'}, {'question_id': 375273003, 'answer': 'stop'}, {'question_id': 149883010, 'answer': '2'}, {'question_id': 149883038, 'answer': '2'}, {'question_id': 149883004, 'answer': 'bathroom'}, {'question_id': 149883018, 'answer': 'yes'}, {'question_id': 149883003, 'answer': 'yes'}, {'question_id': 149883012, 'answer': '4'}, {'question_id': 149883014, 'answer': 'wood'}, {'question_id': 149883031, 'answer': 'yes'}, {'question_id': 149883001, 'answer': '2'}, {'question_id': 149883039, 'answer': 'yes'}, {'question_id': 149883021, 'answer': 'stop'}, {'question_id': 149883016, 'answer': '12 : 10 : :'}, {'question_id': 93315076, 'answer': 'stop'}, {'question_id': 93315052, 'answer': 'yes'}, {'question_id': 93315046, 'answer': 'stop'}, {'question_id': 93315047, 'answer': 'red'}, {'question_id': 93315044, 'answer': 'yes'}, {'question_id': 93315039, 'answer': 'yes'}, {'question_id': 93315057, 'answer': '2'}, {'question_id': 93315056, 'answer': 'yes'}, {'question_id': 93315028, 'answer': 'yes'}, {'question_id': 93315089, 'answer': 'left'}, {'question_id': 93315063, 'answer': 'yes'}, {'question_id': 93315041, 'answer': 'yes'}, {'question_id': 93315086, 'answer': '12 : 10'}, {'question_id': 93315083, 'answer': 'red'}, {'question_id': 93315023, 'answer': 'yes'}, {'question_id': 93315064, 'answer': 'yes'}, {'question_id': 93315070, 'answer': 'yes'}, {'question_id': 93315042, 'answer': '2'}, {'question_id': 93315054, 'answer': 'yes'}, {'question_id': 93315002, 'answer': 'yes'}, {'question_id': 93315008, 'answer': 'yes'}, {'question_id': 93315038, 'answer': 'yes'}, {'question_id': 93315003, 'answer': 'yes'}, {'question_id': 93315034, 'answer': 'yes'}, {'question_id': 93315055, 'answer': 'yes'}, {'question_id': 93315004, 'answer': 'yes'}, {'question_id': 93315074, 'answer': '2'}, {'question_id': 93315081, 'answer': 'wood'}, {'question_id': 526944088, 'answer': '2'}, {'question_id': 526944095, 'answer': 'stop'}, {'question_id': 526944013, 'answer': 'yes'}, {'question_id': 526944051, 'answer': '2'}, {'question_id': 526944015, 'answer': 'sunny'}, {'question_id': 526944030, 'answer': 'yes'}, {'question_id': 526944053, 'answer': '2'}, {'question_id': 526944108, 'answer': 'yes'}, {'question_id': 526944081, 'answer': 'yes'}, {'question_id': 526944002, 'answer': 'yes'}, {'question_id': 526944107, 'answer': 'stop'}, {'question_id': 526944105, 'answer': '12 :'}, {'question_id': 526944117, 'answer': 'train'}, {'question_id': 526944009, 'answer': 'yes'}, {'question_id': 526944034, 'answer': 'yes'}, {'question_id': 526944123, 'answer': 'yes'}, {'question_id': 526944098, 'answer': '2'}, {'question_id': 526944091, 'answer': 'yes'}, {'question_id': 526944097, 'answer': 'yes'}, {'question_id': 526944073, 'answer': 'yes'}, {'question_id': 526944124, 'answer': 'train'}, {'question_id': 526944024, 'answer': 'yes'}, {'question_id': 526944039, 'answer': 'yes'}, {'question_id': 526944052, 'answer': '12 : 10'}, {'question_id': 526944044, 'answer': 'yes'}, {'question_id': 526944055, 'answer': 'yes'}, {'question_id': 526944079, 'answer': 'yes'}, {'question_id': 526944028, 'answer': 'wood'}, {'question_id': 201049006, 'answer': 'tennis'}, {'question_id': 201049001, 'answer': 'yes'}, {'question_id': 201049009, 'answer': 'tennis'}, {'question_id': 201049004, 'answer': 'red'}, {'question_id': 369001018, 'answer': 'yes'}, {'question_id': 369001009, 'answer': 'flying'}, {'question_id': 369001007, 'answer': 'water'}, {'question_id': 369001006, 'answer': 'yes'}, {'question_id': 196162001, 'answer': 'yes'}, {'question_id': 196162005, 'answer': 'yes'}, {'question_id': 126933001, 'answer': '2'}, {'question_id': 142762001, 'answer': 'yes'}, {'question_id': 142762003, 'answer': 'living room'}, {'question_id': 108227005, 'answer': 'yes'}, {'question_id': 362494021, 'answer': 'yes'}, {'question_id': 362494000, 'answer': 'bed'}, {'question_id': 362494005, 'answer': 'yes'}, {'question_id': 362494008, 'answer': 'yes'}, {'question_id': 362494010, 'answer': 'yes'}, {'question_id': 362494011, 'answer': 'sitting'}, {'question_id': 346781021, 'answer': 'no'}, {'question_id': 346781046, 'answer': 'yes'}, {'question_id': 346781008, 'answer': 'phone'}, {'question_id': 346781045, 'answer': 'phone'}, {'question_id': 346781062, 'answer': 'yes'}, {'question_id': 346781006, 'answer': 'yes'}, {'question_id': 346781059, 'answer': 'yes'}, {'question_id': 346781029, 'answer': 'boy'}, {'question_id': 346781042, 'answer': 'yes'}, {'question_id': 346781012, 'answer': 'white'}, {'question_id': 346781020, 'answer': 'yes'}, {'question_id': 346781036, 'answer': 'phone'}, {'question_id': 346781005, 'answer': 'phone'}, {'question_id': 346781002, 'answer': 'blue'}, {'question_id': 346781004, 'answer': '2'}, {'question_id': 346781063, 'answer': '2'}, {'question_id': 346781055, 'answer': 'banana'}]\n",
      "result size: 176319\n"
     ]
    },
    {
     "name": "stdout",
     "output_type": "stream",
     "text": [
      ">>>> Batch #  639 [195757, 179439, 311200, 151258, 100009, 243493, 213038, 254580, 393742, 27774, 12165, 471614, 113865, 113865, 303669, 44050, 362494, 151723, 373545, 231985, 393058, 297923, 245606, 178043, 341826, 259064, 93315, 307131, 373800, 126782, 126782, 216701]\n",
      ">>>> Batch Output #  [{'question_id': 195757002, 'answer': 'umbrella'}, {'question_id': 195757001, 'answer': 'skateboarding'}, {'question_id': 195757003, 'answer': 'yes'}, {'question_id': 195757006, 'answer': '2'}, {'question_id': 179439001, 'answer': 'yes'}, {'question_id': 311200008, 'answer': 'eating'}, {'question_id': 311200018, 'answer': 'banana'}, {'question_id': 311200019, 'answer': 'yes'}, {'question_id': 311200016, 'answer': 'table'}, {'question_id': 311200031, 'answer': 'phone'}, {'question_id': 311200007, 'answer': 'yes'}, {'question_id': 151258004, 'answer': 'white'}, {'question_id': 151258002, 'answer': 'skateboard'}, {'question_id': 100009000, 'answer': '2'}, {'question_id': 243493018, 'answer': 'yes'}, {'question_id': 243493005, 'answer': 'yes'}, {'question_id': 243493010, 'answer': 'yes'}, {'question_id': 243493006, 'answer': 'yes'}, {'question_id': 243493004, 'answer': 'umbrella'}, {'question_id': 213038007, 'answer': 'banana'}, {'question_id': 213038002, 'answer': 'yes'}, {'question_id': 254580000, 'answer': 'flowers'}, {'question_id': 254580004, 'answer': 'yes'}, {'question_id': 393742011, 'answer': '2'}, {'question_id': 393742015, 'answer': 'no'}, {'question_id': 393742012, 'answer': 'broccoli'}, {'question_id': 27774002, 'answer': 'white'}, {'question_id': 27774004, 'answer': 'train'}, {'question_id': 12165007, 'answer': '2'}, {'question_id': 12165008, 'answer': 'camera'}, {'question_id': 12165009, 'answer': 'white'}, {'question_id': 12165000, 'answer': 'yes'}, {'question_id': 12165006, 'answer': 'white'}, {'question_id': 12165012, 'answer': '2'}, {'question_id': 471614000, 'answer': 'yes'}, {'question_id': 113865000, 'answer': 'yes'}, {'question_id': 113865007, 'answer': 'hat'}, {'question_id': 113865000, 'answer': 'yes'}, {'question_id': 113865007, 'answer': 'hat'}, {'question_id': 303669010, 'answer': 'none'}, {'question_id': 303669006, 'answer': 'wii'}, {'question_id': 303669015, 'answer': 'living room'}, {'question_id': 303669012, 'answer': 'yes'}, {'question_id': 303669011, 'answer': 'scissors'}, {'question_id': 303669001, 'answer': '2'}, {'question_id': 44050074, 'answer': 'yes'}, {'question_id': 44050065, 'answer': 'bathroom'}, {'question_id': 44050036, 'answer': 'yes'}, {'question_id': 44050060, 'answer': 'yes'}, {'question_id': 44050040, 'answer': 'yes'}, {'question_id': 44050024, 'answer': 'yes'}, {'question_id': 44050077, 'answer': 'yes'}, {'question_id': 44050035, 'answer': '2'}, {'question_id': 44050003, 'answer': 'wood'}, {'question_id': 44050029, 'answer': 'yes'}, {'question_id': 44050076, 'answer': 'yes'}, {'question_id': 44050026, 'answer': 'wood'}, {'question_id': 44050021, 'answer': 'yes'}, {'question_id': 44050011, 'answer': 'yes'}, {'question_id': 44050045, 'answer': 'yes'}, {'question_id': 44050038, 'answer': 'toilet'}, {'question_id': 44050066, 'answer': 'no'}, {'question_id': 362494021, 'answer': 'yes'}, {'question_id': 362494000, 'answer': 'bed'}, {'question_id': 362494005, 'answer': 'yes'}, {'question_id': 362494008, 'answer': 'yes'}, {'question_id': 362494010, 'answer': 'yes'}, {'question_id': 362494011, 'answer': 'sitting'}, {'question_id': 151723007, 'answer': 'yes'}, {'question_id': 151723001, 'answer': 'yes'}, {'question_id': 151723000, 'answer': '4'}, {'question_id': 151723008, 'answer': '4'}, {'question_id': 373545005, 'answer': '2'}, {'question_id': 373545003, 'answer': 'red'}, {'question_id': 373545000, 'answer': 'bus'}, {'question_id': 231985007, 'answer': 'sheep'}, {'question_id': 231985002, 'answer': 'sheep'}, {'question_id': 231985008, 'answer': '2'}, {'question_id': 393058002, 'answer': 'wood'}, {'question_id': 297923062, 'answer': 'red'}, {'question_id': 297923004, 'answer': 'yes'}, {'question_id': 297923026, 'answer': 'yes'}, {'question_id': 297923038, 'answer': 'yes'}, {'question_id': 297923059, 'answer': '2'}, {'question_id': 297923068, 'answer': 'yes'}, {'question_id': 297923036, 'answer': 'yes'}, {'question_id': 297923033, 'answer': 'train'}, {'question_id': 297923070, 'answer': 'red'}, {'question_id': 297923073, 'answer': 'train'}, {'question_id': 297923069, 'answer': 'red'}, {'question_id': 297923049, 'answer': '12'}, {'question_id': 297923042, 'answer': 'yes'}, {'question_id': 297923027, 'answer': 'train'}, {'question_id': 297923020, 'answer': 'yes'}, {'question_id': 297923019, 'answer': 'yes'}, {'question_id': 297923051, 'answer': 'yes'}, {'question_id': 297923046, 'answer': 'walking'}, {'question_id': 297923011, 'answer': 'airport'}, {'question_id': 245606018, 'answer': 'bathroom'}, {'question_id': 245606000, 'answer': 'yes'}, {'question_id': 245606020, 'answer': 'toilet'}, {'question_id': 245606009, 'answer': 'yes'}, {'question_id': 178043022, 'answer': 'yes'}, {'question_id': 178043001, 'answer': 'toilet'}, {'question_id': 178043026, 'answer': '2'}, {'question_id': 178043011, 'answer': 'yes'}, {'question_id': 178043013, 'answer': 'no'}, {'question_id': 178043016, 'answer': 'yes'}, {'question_id': 178043023, 'answer': '2'}, {'question_id': 178043014, 'answer': '2'}, {'question_id': 341826073, 'answer': 'yes'}, {'question_id': 341826046, 'answer': '2'}, {'question_id': 341826009, 'answer': 'yes'}, {'question_id': 341826039, 'answer': 'none'}, {'question_id': 341826053, 'answer': 'yes'}, {'question_id': 341826017, 'answer': 'none'}, {'question_id': 341826090, 'answer': 'yes'}, {'question_id': 341826138, 'answer': 'yes'}, {'question_id': 341826036, 'answer': 'toilet'}, {'question_id': 341826139, 'answer': 'yes'}, {'question_id': 341826131, 'answer': 'yes'}, {'question_id': 341826106, 'answer': 'yes'}, {'question_id': 341826064, 'answer': 'toilet'}, {'question_id': 341826152, 'answer': 'yes'}, {'question_id': 341826127, 'answer': 'white'}, {'question_id': 341826005, 'answer': 'none'}, {'question_id': 341826084, 'answer': '2'}, {'question_id': 341826038, 'answer': 'to the room'}, {'question_id': 341826154, 'answer': 'tile'}, {'question_id': 341826069, 'answer': 'yes'}, {'question_id': 341826103, 'answer': 'yes'}, {'question_id': 341826081, 'answer': 'yes'}, {'question_id': 341826116, 'answer': 'yes'}, {'question_id': 341826040, 'answer': 'yes'}, {'question_id': 341826004, 'answer': 'white'}, {'question_id': 341826166, 'answer': 'tile'}, {'question_id': 341826029, 'answer': 'yes'}, {'question_id': 341826010, 'answer': 'yes'}, {'question_id': 341826108, 'answer': 'living room'}, {'question_id': 341826159, 'answer': 'tile'}, {'question_id': 341826157, 'answer': 'yes'}, {'question_id': 341826104, 'answer': '2'}, {'question_id': 341826100, 'answer': 'yes'}, {'question_id': 341826006, 'answer': 'living room'}, {'question_id': 341826060, 'answer': 'toilet'}, {'question_id': 341826136, 'answer': 'head'}, {'question_id': 341826026, 'answer': 'living room'}, {'question_id': 341826129, 'answer': 'yes'}, {'question_id': 259064007, 'answer': 'yes'}, {'question_id': 259064002, 'answer': 'yes'}, {'question_id': 259064008, 'answer': 'cat'}, {'question_id': 259064004, 'answer': '2'}, {'question_id': 93315076, 'answer': 'stop'}, {'question_id': 93315052, 'answer': 'yes'}, {'question_id': 93315046, 'answer': 'stop'}, {'question_id': 93315047, 'answer': 'red'}, {'question_id': 93315044, 'answer': 'yes'}, {'question_id': 93315039, 'answer': 'yes'}, {'question_id': 93315057, 'answer': '2'}, {'question_id': 93315056, 'answer': 'yes'}, {'question_id': 93315028, 'answer': 'yes'}, {'question_id': 93315089, 'answer': 'left'}, {'question_id': 93315063, 'answer': 'yes'}, {'question_id': 93315041, 'answer': 'yes'}, {'question_id': 93315086, 'answer': '12 : 10'}, {'question_id': 93315083, 'answer': 'red'}, {'question_id': 93315023, 'answer': 'yes'}, {'question_id': 93315064, 'answer': 'yes'}, {'question_id': 93315070, 'answer': 'yes'}, {'question_id': 93315042, 'answer': '2'}, {'question_id': 93315054, 'answer': 'yes'}, {'question_id': 93315002, 'answer': 'yes'}, {'question_id': 93315008, 'answer': 'yes'}, {'question_id': 93315038, 'answer': 'yes'}, {'question_id': 93315003, 'answer': 'yes'}, {'question_id': 93315034, 'answer': 'yes'}, {'question_id': 93315055, 'answer': 'yes'}, {'question_id': 93315004, 'answer': 'yes'}, {'question_id': 93315074, 'answer': '2'}, {'question_id': 93315081, 'answer': 'wood'}, {'question_id': 307131006, 'answer': 'bus'}, {'question_id': 307131001, 'answer': 'sunny'}, {'question_id': 373800039, 'answer': 'yes'}, {'question_id': 373800020, 'answer': 'yes'}, {'question_id': 373800046, 'answer': 'yes'}, {'question_id': 373800070, 'answer': 'umbrella'}, {'question_id': 373800077, 'answer': 'right'}, {'question_id': 373800064, 'answer': 'train'}, {'question_id': 373800098, 'answer': '2'}, {'question_id': 373800066, 'answer': 'brick'}, {'question_id': 373800034, 'answer': 'yes'}, {'question_id': 373800095, 'answer': 'stop'}, {'question_id': 373800014, 'answer': 'yes'}, {'question_id': 373800099, 'answer': 'walking'}, {'question_id': 373800083, 'answer': 'yes'}, {'question_id': 373800040, 'answer': 'skateboard'}, {'question_id': 373800053, 'answer': 'winter'}, {'question_id': 373800087, 'answer': 'yes'}, {'question_id': 373800061, 'answer': 'city'}, {'question_id': 373800026, 'answer': 'yes'}, {'question_id': 373800033, 'answer': 'water'}, {'question_id': 373800025, 'answer': 'yes'}, {'question_id': 373800021, 'answer': 'summer'}, {'question_id': 373800076, 'answer': 'yes'}, {'question_id': 373800058, 'answer': 'brick'}, {'question_id': 126782002, 'answer': 'airplane'}, {'question_id': 126782003, 'answer': 'white'}, {'question_id': 126782002, 'answer': 'airplane'}, {'question_id': 126782003, 'answer': 'white'}, {'question_id': 216701007, 'answer': 'pizza'}, {'question_id': 216701008, 'answer': 'pizza'}]\n",
      "result size: 177520\n"
     ]
    },
    {
     "name": "stdout",
     "output_type": "stream",
     "text": [
      ">>>> Batch #  648 [450036, 97034, 173857, 302804, 337474, 576553, 56793, 492046, 492046, 381951, 400096, 88079, 316379, 199361, 274115, 105275, 510108, 315335, 42485, 102491, 544275, 103672, 157879, 126990, 563715, 523386, 463062, 499557, 556294, 176199, 157031, 44712]\n",
      ">>>> Batch Output #  [{'question_id': 450036033, 'answer': 'banana'}, {'question_id': 450036009, 'answer': 'yes'}, {'question_id': 450036036, 'answer': 'yes'}, {'question_id': 450036035, 'answer': 'yes'}, {'question_id': 450036007, 'answer': 'table'}, {'question_id': 450036031, 'answer': 'nothing'}, {'question_id': 450036020, 'answer': 'banana'}, {'question_id': 450036000, 'answer': '2'}, {'question_id': 450036018, 'answer': 'nothing'}, {'question_id': 450036019, 'answer': 'banana'}, {'question_id': 97034002, 'answer': '2'}, {'question_id': 173857000, 'answer': 'on road'}, {'question_id': 173857006, 'answer': '2'}, {'question_id': 173857004, 'answer': 'red'}, {'question_id': 173857009, 'answer': 'red'}, {'question_id': 302804043, 'answer': 'yes'}, {'question_id': 302804045, 'answer': 'yes'}, {'question_id': 302804041, 'answer': 'umbrella'}, {'question_id': 302804051, 'answer': 'man'}, {'question_id': 302804011, 'answer': 'yes'}, {'question_id': 302804024, 'answer': 'none'}, {'question_id': 302804014, 'answer': 'train'}, {'question_id': 302804001, 'answer': 'road'}, {'question_id': 302804065, 'answer': 'stop'}, {'question_id': 302804035, 'answer': 'yes'}, {'question_id': 302804012, 'answer': 'yes'}, {'question_id': 302804023, 'answer': '2'}, {'question_id': 302804077, 'answer': 'hat'}, {'question_id': 302804034, 'answer': 'yes'}, {'question_id': 302804033, 'answer': 'stop'}, {'question_id': 302804049, 'answer': 'yes'}, {'question_id': 302804028, 'answer': 'yes'}, {'question_id': 302804072, 'answer': 'sunny'}, {'question_id': 302804071, 'answer': 'stop'}, {'question_id': 302804002, 'answer': 'on street'}, {'question_id': 302804057, 'answer': 'brick'}, {'question_id': 302804069, 'answer': 'none'}, {'question_id': 302804040, 'answer': 'yes'}, {'question_id': 337474029, 'answer': 'zoo'}, {'question_id': 337474006, 'answer': 'no'}, {'question_id': 337474019, 'answer': 'yes'}, {'question_id': 337474034, 'answer': 'yes'}, {'question_id': 337474020, 'answer': '2'}, {'question_id': 337474010, 'answer': '2'}, {'question_id': 337474030, 'answer': 'yes'}, {'question_id': 337474032, 'answer': 'yes'}, {'question_id': 337474012, 'answer': 'yes'}, {'question_id': 576553000, 'answer': 'yes'}, {'question_id': 576553001, 'answer': 'white'}, {'question_id': 576553006, 'answer': 'flowers'}, {'question_id': 56793002, 'answer': 'wood'}, {'question_id': 492046001, 'answer': 'blue'}, {'question_id': 492046002, 'answer': 'man'}, {'question_id': 492046004, 'answer': 'tennis'}, {'question_id': 492046001, 'answer': 'blue'}, {'question_id': 492046002, 'answer': 'man'}, {'question_id': 492046004, 'answer': 'tennis'}, {'question_id': 381951058, 'answer': 'yes'}, {'question_id': 381951060, 'answer': 'yes'}, {'question_id': 381951084, 'answer': 'yes'}, {'question_id': 381951048, 'answer': 'yes'}, {'question_id': 381951078, 'answer': 'yes'}, {'question_id': 381951040, 'answer': 'umbrella'}, {'question_id': 381951031, 'answer': 'umbrella'}, {'question_id': 381951033, 'answer': '2'}, {'question_id': 381951070, 'answer': 'yes'}, {'question_id': 381951039, 'answer': 'yes'}, {'question_id': 381951022, 'answer': '4'}, {'question_id': 381951029, 'answer': 'yes'}, {'question_id': 381951030, 'answer': 'to eat'}, {'question_id': 381951054, 'answer': 'yes'}, {'question_id': 381951073, 'answer': 'man'}, {'question_id': 381951009, 'answer': 'yes'}, {'question_id': 381951050, 'answer': 'umbrella'}, {'question_id': 381951017, 'answer': 'yes'}, {'question_id': 381951025, 'answer': 'yes'}, {'question_id': 400096003, 'answer': 'broccoli'}, {'question_id': 400096004, 'answer': 'yes'}, {'question_id': 88079054, 'answer': 'white'}, {'question_id': 88079076, 'answer': 'glasses'}, {'question_id': 88079019, 'answer': 'glasses'}, {'question_id': 88079037, 'answer': '2'}, {'question_id': 88079032, 'answer': 'yes'}, {'question_id': 88079069, 'answer': 'yes'}, {'question_id': 88079031, 'answer': 'yes'}, {'question_id': 88079070, 'answer': 'yes'}, {'question_id': 88079041, 'answer': 'yes'}, {'question_id': 88079023, 'answer': 'none'}, {'question_id': 88079066, 'answer': 'banana'}, {'question_id': 88079026, 'answer': 'yes'}, {'question_id': 88079046, 'answer': 'phone'}, {'question_id': 88079048, 'answer': 'phone'}, {'question_id': 88079014, 'answer': 'yes'}, {'question_id': 88079030, 'answer': 'yes'}, {'question_id': 88079039, 'answer': 'phone'}, {'question_id': 88079071, 'answer': 'yes'}, {'question_id': 88079057, 'answer': 'yes'}, {'question_id': 88079002, 'answer': 'white'}, {'question_id': 88079055, 'answer': 'yes'}, {'question_id': 88079006, 'answer': 'yes'}, {'question_id': 88079044, 'answer': 'yes'}, {'question_id': 88079012, 'answer': 'yes'}, {'question_id': 88079052, 'answer': 'phone'}, {'question_id': 316379001, 'answer': 'yes'}, {'question_id': 316379005, 'answer': 'black'}, {'question_id': 316379014, 'answer': 'yes'}, {'question_id': 316379013, 'answer': 'dog'}, {'question_id': 316379016, 'answer': 'none'}, {'question_id': 316379036, 'answer': 'head'}, {'question_id': 316379026, 'answer': 'white'}, {'question_id': 316379006, 'answer': 'yes'}, {'question_id': 316379038, 'answer': 'umbrella'}, {'question_id': 316379007, 'answer': 'yes'}, {'question_id': 199361001, 'answer': 'red'}, {'question_id': 274115002, 'answer': 'yes'}, {'question_id': 105275002, 'answer': 'playing wii'}, {'question_id': 105275000, 'answer': 'tennis'}, {'question_id': 105275012, 'answer': 'standing'}, {'question_id': 105275007, 'answer': 'playing wii'}, {'question_id': 105275016, 'answer': 'tennis'}, {'question_id': 510108002, 'answer': 'white'}, {'question_id': 315335008, 'answer': 'helmet'}, {'question_id': 315335000, 'answer': 'baseball'}, {'question_id': 315335017, 'answer': 'sunny'}, {'question_id': 315335019, 'answer': 'water'}, {'question_id': 315335018, 'answer': 'yes'}, {'question_id': 315335010, 'answer': 'standing'}, {'question_id': 42485013, 'answer': 'yes'}, {'question_id': 42485002, 'answer': 'yes'}, {'question_id': 42485003, 'answer': 'day'}, {'question_id': 102491002, 'answer': 'bathroom'}, {'question_id': 102491004, 'answer': 'stop'}, {'question_id': 544275024, 'answer': 'yes'}, {'question_id': 544275033, 'answer': 'down'}, {'question_id': 544275036, 'answer': 'yes'}, {'question_id': 544275005, 'answer': 'red'}, {'question_id': 544275017, 'answer': 'yes'}, {'question_id': 103672000, 'answer': 'yes'}, {'question_id': 103672001, 'answer': 'stop'}, {'question_id': 103672004, 'answer': 'yes'}, {'question_id': 103672007, 'answer': 'yes'}, {'question_id': 157879004, 'answer': 'yes'}, {'question_id': 157879011, 'answer': '2'}, {'question_id': 157879016, 'answer': '2'}, {'question_id': 157879019, 'answer': 'yes'}, {'question_id': 157879008, 'answer': 'yes'}, {'question_id': 157879002, 'answer': 'giraffe'}, {'question_id': 157879010, 'answer': 'giraffe'}, {'question_id': 126990001, 'answer': '4'}, {'question_id': 563715000, 'answer': 'white'}, {'question_id': 523386012, 'answer': 'pizza'}, {'question_id': 523386005, 'answer': '2'}, {'question_id': 523386009, 'answer': 'yes'}, {'question_id': 463062005, 'answer': 'giraffe'}, {'question_id': 463062004, 'answer': 'yes'}, {'question_id': 463062010, 'answer': 'yes'}, {'question_id': 499557002, 'answer': 'eating'}, {'question_id': 556294002, 'answer': 'giraffe'}, {'question_id': 556294013, 'answer': 'stop'}, {'question_id': 556294003, 'answer': 'giraffe'}, {'question_id': 176199008, 'answer': 'yes'}, {'question_id': 176199005, 'answer': 'bathroom'}, {'question_id': 176199011, 'answer': 'white'}, {'question_id': 157031005, 'answer': 'cat'}, {'question_id': 44712013, 'answer': 'dog'}, {'question_id': 44712009, 'answer': 'yes'}, {'question_id': 44712007, 'answer': 'sitting'}, {'question_id': 44712023, 'answer': 'black'}, {'question_id': 44712018, 'answer': 'yes'}, {'question_id': 44712033, 'answer': 'dog'}, {'question_id': 44712019, 'answer': 'dog'}, {'question_id': 44712008, 'answer': 'bench'}, {'question_id': 44712010, 'answer': 'yes'}]\n",
      "result size: 178924\n"
     ]
    },
    {
     "name": "stdout",
     "output_type": "stream",
     "text": [
      "=========== mps sync, gc, and mps empty cache and reload ==========\n",
      "current mps allocated memory: 2324486400\n",
      "current mps driver allocated memory: 31682494464\n",
      "after empyt cache\n",
      "current mps allocated memory: 2324486400\n",
      "current mps driver allocated memory: 15920300032\n",
      ">>>> Batch #  649  >>>> Storing JSON data ending with result: 179083\n",
      ">>>> Batch #  657 [58293, 396377, 455115, 548106, 454278, 63802, 222173, 437505, 209342, 136629, 183547, 56880, 250438, 225590, 534654, 135217, 13735, 130208, 463808, 138660, 317599, 454188, 23973, 415698, 360023, 318441, 394628, 242360, 184936, 374459, 27187, 437606]\n",
      ">>>> Batch Output #  [{'question_id': 58293004, 'answer': 'yes'}, {'question_id': 396377003, 'answer': 'yes'}, {'question_id': 455115004, 'answer': 'yes'}, {'question_id': 455115011, 'answer': 'yes'}, {'question_id': 455115000, 'answer': 'yes'}, {'question_id': 455115006, 'answer': 'yes'}, {'question_id': 455115012, 'answer': 'yes'}, {'question_id': 548106002, 'answer': 'white'}, {'question_id': 454278010, 'answer': 'yes'}, {'question_id': 454278020, 'answer': 'yes'}, {'question_id': 454278007, 'answer': 'yes'}, {'question_id': 454278004, 'answer': 'bathroom'}, {'question_id': 454278027, 'answer': 'bathroom'}, {'question_id': 454278015, 'answer': 'yes'}, {'question_id': 454278011, 'answer': 'white'}, {'question_id': 454278022, 'answer': 'yes'}, {'question_id': 454278031, 'answer': 'yes'}, {'question_id': 454278021, 'answer': 'wood'}, {'question_id': 454278016, 'answer': 'toilet'}, {'question_id': 454278013, 'answer': 'yes'}, {'question_id': 454278028, 'answer': 'bathroom'}, {'question_id': 63802004, 'answer': 'yes'}, {'question_id': 63802001, 'answer': 'white'}, {'question_id': 63802005, 'answer': 'white'}, {'question_id': 63802010, 'answer': 'yes'}, {'question_id': 222173009, 'answer': '2'}, {'question_id': 222173001, 'answer': 'yes'}, {'question_id': 437505003, 'answer': 'red'}, {'question_id': 437505001, 'answer': '2'}, {'question_id': 437505004, 'answer': 'red'}, {'question_id': 437505008, 'answer': 'stop'}, {'question_id': 437505000, 'answer': 'white'}, {'question_id': 209342000, 'answer': 'white'}, {'question_id': 209342010, 'answer': 'wood'}, {'question_id': 209342008, 'answer': 'no'}, {'question_id': 209342007, 'answer': 'white'}, {'question_id': 136629015, 'answer': 'yes'}, {'question_id': 136629004, 'answer': 'dog'}, {'question_id': 136629020, 'answer': 'yes'}, {'question_id': 136629001, 'answer': 'dog'}, {'question_id': 136629012, 'answer': 'sitting'}, {'question_id': 183547008, 'answer': '2'}, {'question_id': 56880007, 'answer': 'yes'}, {'question_id': 56880026, 'answer': 'yes'}, {'question_id': 56880014, 'answer': 'umbrella'}, {'question_id': 56880008, 'answer': '12 :'}, {'question_id': 56880015, 'answer': 'yes'}, {'question_id': 56880025, 'answer': 'yes'}, {'question_id': 56880018, 'answer': '12 : :'}, {'question_id': 56880004, 'answer': '12 :'}, {'question_id': 56880029, 'answer': '2'}, {'question_id': 56880003, 'answer': '12 :'}, {'question_id': 56880020, 'answer': 'white'}, {'question_id': 56880009, 'answer': '12 : 10 : : : : :'}, {'question_id': 250438007, 'answer': 'left'}, {'question_id': 250438010, 'answer': 'white'}, {'question_id': 250438015, 'answer': 'wood'}, {'question_id': 250438009, 'answer': '12 : 10'}, {'question_id': 225590008, 'answer': '2'}, {'question_id': 225590017, 'answer': 'yes'}, {'question_id': 225590002, 'answer': 'wood'}, {'question_id': 225590035, 'answer': 'broccoli'}, {'question_id': 225590027, 'answer': 'yes'}, {'question_id': 225590010, 'answer': 'yes'}, {'question_id': 225590009, 'answer': '2'}, {'question_id': 534654002, 'answer': 'stop'}, {'question_id': 534654000, 'answer': 'yes'}, {'question_id': 135217018, 'answer': 'city'}, {'question_id': 135217001, 'answer': 'yes'}, {'question_id': 13735002, 'answer': '12 : 20'}, {'question_id': 130208013, 'answer': 'laptop'}, {'question_id': 130208006, 'answer': 'white'}, {'question_id': 130208004, 'answer': 'yes'}, {'question_id': 463808001, 'answer': '2'}, {'question_id': 138660001, 'answer': 'white'}, {'question_id': 317599020, 'answer': 'stop'}, {'question_id': 317599017, 'answer': 'stop'}, {'question_id': 317599019, 'answer': 'stop'}, {'question_id': 317599000, 'answer': 'stop'}, {'question_id': 317599012, 'answer': 'stop'}, {'question_id': 317599009, 'answer': 'stop'}, {'question_id': 454188003, 'answer': 'yes'}, {'question_id': 454188005, 'answer': 'yes'}, {'question_id': 23973004, 'answer': 'yes'}, {'question_id': 415698003, 'answer': 'toilet'}, {'question_id': 360023004, 'answer': 'yes'}, {'question_id': 360023011, 'answer': 'yes'}, {'question_id': 318441002, 'answer': 'bus'}, {'question_id': 394628003, 'answer': 'yes'}, {'question_id': 242360000, 'answer': 'yes'}, {'question_id': 184936018, 'answer': 'yes'}, {'question_id': 184936008, 'answer': 'white'}, {'question_id': 184936011, 'answer': '2'}, {'question_id': 184936020, 'answer': 'yes'}, {'question_id': 184936000, 'answer': 'yes'}, {'question_id': 184936006, 'answer': 'yes'}, {'question_id': 374459000, 'answer': 'yes'}, {'question_id': 27187000, 'answer': 'yes'}, {'question_id': 27187012, 'answer': 'on road'}, {'question_id': 27187009, 'answer': 'yes'}, {'question_id': 27187007, 'answer': 'red'}, {'question_id': 27187006, 'answer': 'yes'}, {'question_id': 437606006, 'answer': 'water'}, {'question_id': 437606005, 'answer': 'yes'}, {'question_id': 437606000, 'answer': 'yes'}]\n",
      "result size: 180192\n",
      ">>>> Batch #  666 [538571, 545520, 545590, 314600, 365661, 317142, 25953, 485936, 504786, 517158, 24590, 56880, 56880, 116546, 130717, 339181, 245141, 213259, 354351, 354351, 342032, 528267, 285969, 145955, 225465, 487867, 158917, 80608, 144789, 232979, 356540, 526259]\n",
      ">>>> Batch Output #  [{'question_id': 538571002, 'answer': 'yes'}, {'question_id': 538571011, 'answer': 'yes'}, {'question_id': 545520012, 'answer': 'yes'}, {'question_id': 545520005, 'answer': 'yes'}, {'question_id': 545520009, 'answer': '2'}, {'question_id': 545590001, 'answer': 'yes'}, {'question_id': 545590007, 'answer': 'yes'}, {'question_id': 545590010, 'answer': 'yes'}, {'question_id': 545590008, 'answer': 'yes'}, {'question_id': 545590004, 'answer': 'giraffe'}, {'question_id': 314600007, 'answer': '2'}, {'question_id': 314600006, 'answer': 'umbrella'}, {'question_id': 314600004, 'answer': 'umbrella'}, {'question_id': 365661013, 'answer': 'yes'}, {'question_id': 365661009, 'answer': 'airplane'}, {'question_id': 317142004, 'answer': 'nothing'}, {'question_id': 317142002, 'answer': 'skateboarding'}, {'question_id': 317142009, 'answer': 'yes'}, {'question_id': 317142007, 'answer': 'skateboarding'}, {'question_id': 317142012, 'answer': 'yes'}, {'question_id': 317142000, 'answer': 'skateboard'}, {'question_id': 317142008, 'answer': 'tennis'}, {'question_id': 25953006, 'answer': 'tennis'}, {'question_id': 25953001, 'answer': '2'}, {'question_id': 25953011, 'answer': 'soccer'}, {'question_id': 25953002, 'answer': 'playing tennis'}, {'question_id': 485936008, 'answer': 'giraffe'}, {'question_id': 485936006, 'answer': 'white'}, {'question_id': 485936005, 'answer': 'standing'}, {'question_id': 504786003, 'answer': 'yes'}, {'question_id': 517158001, 'answer': 'airplane'}, {'question_id': 517158007, 'answer': 'yes'}, {'question_id': 517158002, 'answer': 'yes'}, {'question_id': 24590017, 'answer': 'yes'}, {'question_id': 24590006, 'answer': 'toilet'}, {'question_id': 24590010, 'answer': 'toilet'}, {'question_id': 24590016, 'answer': 'yes'}, {'question_id': 56880007, 'answer': 'yes'}, {'question_id': 56880026, 'answer': 'yes'}, {'question_id': 56880014, 'answer': 'umbrella'}, {'question_id': 56880008, 'answer': '12 :'}, {'question_id': 56880015, 'answer': 'yes'}, {'question_id': 56880025, 'answer': 'yes'}, {'question_id': 56880018, 'answer': '12 : : 10 : : : : : 30'}, {'question_id': 56880004, 'answer': '12 : 10 : : : : :'}, {'question_id': 56880029, 'answer': '2'}, {'question_id': 56880003, 'answer': '12 :'}, {'question_id': 56880020, 'answer': 'white'}, {'question_id': 56880009, 'answer': '12 : 10'}, {'question_id': 56880007, 'answer': 'yes'}, {'question_id': 56880026, 'answer': 'yes'}, {'question_id': 56880014, 'answer': 'umbrella'}, {'question_id': 56880008, 'answer': '12 :'}, {'question_id': 56880015, 'answer': 'yes'}, {'question_id': 56880025, 'answer': 'yes'}, {'question_id': 56880018, 'answer': '12 : : 10 : 10 : : 10 : 30'}, {'question_id': 56880004, 'answer': '12 : 10 : : : : :'}, {'question_id': 56880029, 'answer': '2'}, {'question_id': 56880003, 'answer': '12 :'}, {'question_id': 56880020, 'answer': 'white'}, {'question_id': 56880009, 'answer': '12 : 10'}, {'question_id': 116546003, 'answer': '2'}, {'question_id': 116546023, 'answer': 'yes'}, {'question_id': 116546017, 'answer': 'umbrella'}, {'question_id': 116546014, 'answer': 'yes'}, {'question_id': 116546022, 'answer': 'yes'}, {'question_id': 116546029, 'answer': 'yes'}, {'question_id': 116546004, 'answer': 'yes'}, {'question_id': 116546002, 'answer': '2'}, {'question_id': 116546020, 'answer': 'sitting'}, {'question_id': 116546016, 'answer': 'jeans'}, {'question_id': 116546035, 'answer': 'yes'}, {'question_id': 130717002, 'answer': 'yes'}, {'question_id': 339181001, 'answer': 'bear'}, {'question_id': 339181000, 'answer': 'on top of water'}, {'question_id': 339181009, 'answer': 'bear'}, {'question_id': 339181012, 'answer': 'red'}, {'question_id': 339181007, 'answer': 'standing'}, {'question_id': 339181005, 'answer': '2'}, {'question_id': 245141001, 'answer': 'yes'}, {'question_id': 245141008, 'answer': '12 : 10 : 10'}, {'question_id': 245141005, 'answer': '2'}, {'question_id': 245141000, 'answer': 'yes'}, {'question_id': 213259038, 'answer': 'yes'}, {'question_id': 213259022, 'answer': 'yes'}, {'question_id': 213259020, 'answer': '2'}, {'question_id': 213259052, 'answer': 'yes'}, {'question_id': 213259019, 'answer': 'yes'}, {'question_id': 213259023, 'answer': 'yes'}, {'question_id': 213259049, 'answer': 'white'}, {'question_id': 213259013, 'answer': '2'}, {'question_id': 354351029, 'answer': 'on wall'}, {'question_id': 354351024, 'answer': 'yes'}, {'question_id': 354351004, 'answer': 'boy'}, {'question_id': 354351022, 'answer': 'yes'}, {'question_id': 354351011, 'answer': 'yes'}, {'question_id': 354351034, 'answer': 'banana'}, {'question_id': 354351021, 'answer': 'yes'}, {'question_id': 354351029, 'answer': 'on wall'}, {'question_id': 354351024, 'answer': 'yes'}, {'question_id': 354351004, 'answer': 'boy'}, {'question_id': 354351022, 'answer': 'yes'}, {'question_id': 354351011, 'answer': 'yes'}, {'question_id': 354351034, 'answer': 'none'}, {'question_id': 354351021, 'answer': 'yes'}, {'question_id': 342032000, 'answer': 'yes'}, {'question_id': 528267002, 'answer': 'yes'}, {'question_id': 285969003, 'answer': 'yes'}, {'question_id': 285969050, 'answer': 'on bus'}, {'question_id': 285969051, 'answer': 'yes'}, {'question_id': 285969047, 'answer': 'yes'}, {'question_id': 285969042, 'answer': 'yes'}, {'question_id': 285969052, 'answer': 'yes'}, {'question_id': 285969006, 'answer': 'yes'}, {'question_id': 285969034, 'answer': 'yes'}, {'question_id': 285969013, 'answer': 'yes'}, {'question_id': 285969009, 'answer': '2'}, {'question_id': 285969027, 'answer': 'yes'}, {'question_id': 285969012, 'answer': 'yes'}, {'question_id': 145955002, 'answer': 'yes'}, {'question_id': 225465059, 'answer': 'yes'}, {'question_id': 225465021, 'answer': 'train'}, {'question_id': 225465012, 'answer': 'yes'}, {'question_id': 225465025, 'answer': 'stop'}, {'question_id': 225465001, 'answer': 'red'}, {'question_id': 225465047, 'answer': 'train'}, {'question_id': 225465083, 'answer': '2'}, {'question_id': 225465044, 'answer': 'yes'}, {'question_id': 225465079, 'answer': 'stop'}, {'question_id': 225465028, 'answer': '2'}, {'question_id': 225465061, 'answer': '4'}, {'question_id': 225465058, 'answer': 'red'}, {'question_id': 225465085, 'answer': 'stop'}, {'question_id': 225465067, 'answer': 'stop'}, {'question_id': 225465070, 'answer': 'stop'}, {'question_id': 225465041, 'answer': 'stop'}, {'question_id': 225465003, 'answer': 'yes'}, {'question_id': 225465051, 'answer': 'stop'}, {'question_id': 225465073, 'answer': 'red'}, {'question_id': 225465046, 'answer': 'yes'}, {'question_id': 225465035, 'answer': 'yes'}, {'question_id': 225465023, 'answer': 'train'}, {'question_id': 487867003, 'answer': 'sunny'}, {'question_id': 487867005, 'answer': 'red'}, {'question_id': 487867027, 'answer': '2'}, {'question_id': 487867021, 'answer': 'yes'}, {'question_id': 487867024, 'answer': 'yes'}, {'question_id': 487867002, 'answer': 'yes'}, {'question_id': 158917000, 'answer': 'white'}, {'question_id': 80608000, 'answer': 'wood'}, {'question_id': 80608003, 'answer': 'wood'}, {'question_id': 80608001, 'answer': 'white'}, {'question_id': 144789007, 'answer': 'yes'}, {'question_id': 144789002, 'answer': 'yes'}, {'question_id': 144789001, 'answer': 'yes'}, {'question_id': 232979012, 'answer': '2'}, {'question_id': 232979015, 'answer': 'bus'}, {'question_id': 356540003, 'answer': 'breakfast'}, {'question_id': 356540007, 'answer': 'yes'}, {'question_id': 356540006, 'answer': 'on top'}, {'question_id': 526259061, 'answer': 'pizza'}, {'question_id': 526259010, 'answer': 'pizza'}, {'question_id': 526259050, 'answer': 'no'}, {'question_id': 526259016, 'answer': 'white'}, {'question_id': 526259076, 'answer': 'man'}, {'question_id': 526259071, 'answer': 'white'}, {'question_id': 526259090, 'answer': 'kitchen'}, {'question_id': 526259019, 'answer': 'yes'}, {'question_id': 526259017, 'answer': 'pizza'}, {'question_id': 526259052, 'answer': 'pizza'}, {'question_id': 526259072, 'answer': 'in front'}, {'question_id': 526259085, 'answer': 'yes'}, {'question_id': 526259037, 'answer': 'yes'}, {'question_id': 526259060, 'answer': 'yes'}, {'question_id': 526259014, 'answer': 'yes'}, {'question_id': 526259033, 'answer': 'yes'}, {'question_id': 526259056, 'answer': '2'}, {'question_id': 526259030, 'answer': 'pizza'}, {'question_id': 526259053, 'answer': 'yes'}, {'question_id': 526259047, 'answer': 'pizza'}, {'question_id': 526259005, 'answer': 'pizza'}, {'question_id': 526259035, 'answer': 'pizza'}]\n",
      "result size: 181387\n"
     ]
    },
    {
     "name": "stdout",
     "output_type": "stream",
     "text": [
      ">>>> Batch #  675 [334369, 227387, 318927, 439376, 254321, 100574, 305426, 229768, 515223, 315716, 266194, 158257, 323383, 465382, 329774, 209417, 555466, 555466, 282739, 350673, 290271, 67610, 287728, 418542, 557332, 472458, 8129, 49584, 307485, 467185, 307485, 563893]\n",
      ">>>> Batch Output #  [{'question_id': 334369000, 'answer': 'yes'}, {'question_id': 227387002, 'answer': 'yes'}, {'question_id': 227387007, 'answer': 'yes'}, {'question_id': 318927015, 'answer': 'yes'}, {'question_id': 318927002, 'answer': 'yes'}, {'question_id': 439376007, 'answer': 'yes'}, {'question_id': 439376053, 'answer': '2'}, {'question_id': 439376066, 'answer': 'tile'}, {'question_id': 439376062, 'answer': 'bed'}, {'question_id': 439376021, 'answer': 'living room'}, {'question_id': 439376046, 'answer': 'yes'}, {'question_id': 439376015, 'answer': 'yes'}, {'question_id': 439376044, 'answer': '2'}, {'question_id': 439376051, 'answer': 'yes'}, {'question_id': 439376008, 'answer': 'yes'}, {'question_id': 439376050, 'answer': 'yes'}, {'question_id': 439376005, 'answer': '2'}, {'question_id': 439376041, 'answer': 'yes'}, {'question_id': 439376036, 'answer': 'yes'}, {'question_id': 439376017, 'answer': '2'}, {'question_id': 254321003, 'answer': 'yes'}, {'question_id': 254321006, 'answer': 'yes'}, {'question_id': 254321001, 'answer': 'yes'}, {'question_id': 254321011, 'answer': 'truck'}, {'question_id': 100574079, 'answer': '2'}, {'question_id': 100574007, 'answer': 'yes'}, {'question_id': 100574082, 'answer': 'yes'}, {'question_id': 100574005, 'answer': 'blue'}, {'question_id': 100574081, 'answer': 'yes'}, {'question_id': 100574040, 'answer': 'yes'}, {'question_id': 100574085, 'answer': 'yes'}, {'question_id': 100574038, 'answer': 'yes'}, {'question_id': 100574042, 'answer': 'yes'}, {'question_id': 100574034, 'answer': 'phone'}, {'question_id': 100574059, 'answer': 'yes'}, {'question_id': 100574011, 'answer': 'phone'}, {'question_id': 100574068, 'answer': 'yes'}, {'question_id': 100574003, 'answer': 'yes'}, {'question_id': 100574014, 'answer': 'hat'}, {'question_id': 100574061, 'answer': 'yes'}, {'question_id': 305426004, 'answer': 'bus'}, {'question_id': 229768077, 'answer': 'playing tennis'}, {'question_id': 229768000, 'answer': 'yes'}, {'question_id': 229768081, 'answer': 'yes'}, {'question_id': 229768140, 'answer': 'tennis'}, {'question_id': 229768044, 'answer': '2'}, {'question_id': 229768087, 'answer': 'on ground'}, {'question_id': 229768160, 'answer': 'none'}, {'question_id': 229768137, 'answer': 'yes'}, {'question_id': 229768204, 'answer': 'man'}, {'question_id': 229768010, 'answer': 'yes'}, {'question_id': 229768191, 'answer': 'yes'}, {'question_id': 229768004, 'answer': 'tennis'}, {'question_id': 229768100, 'answer': 'helmet'}, {'question_id': 229768032, 'answer': 'yes'}, {'question_id': 229768230, 'answer': '2'}, {'question_id': 229768215, 'answer': 'yes'}, {'question_id': 229768127, 'answer': 'blue'}, {'question_id': 229768078, 'answer': 'yes'}, {'question_id': 229768053, 'answer': 'tennis'}, {'question_id': 229768031, 'answer': 'yes'}, {'question_id': 229768201, 'answer': 'yes'}, {'question_id': 229768114, 'answer': 'yes'}, {'question_id': 229768217, 'answer': '2'}, {'question_id': 229768171, 'answer': 'skateboard'}, {'question_id': 229768157, 'answer': 'white'}, {'question_id': 229768049, 'answer': 'yes'}, {'question_id': 229768232, 'answer': 'tennis'}, {'question_id': 229768094, 'answer': 'skateboard'}, {'question_id': 229768082, 'answer': 'tennis'}, {'question_id': 229768184, 'answer': 'yes'}, {'question_id': 229768142, 'answer': 'tennis'}, {'question_id': 229768041, 'answer': 'yes'}, {'question_id': 229768120, 'answer': 'beach'}, {'question_id': 229768028, 'answer': 'skateboard'}, {'question_id': 229768091, 'answer': 'tennis'}, {'question_id': 229768212, 'answer': '2'}, {'question_id': 229768155, 'answer': 'yes'}, {'question_id': 229768029, 'answer': 'soccer'}, {'question_id': 229768214, 'answer': 'tennis'}, {'question_id': 229768221, 'answer': 'playing tennis'}, {'question_id': 229768089, 'answer': 'soccer'}, {'question_id': 229768017, 'answer': 'red'}, {'question_id': 229768235, 'answer': 'yes'}, {'question_id': 229768038, 'answer': 'hat'}, {'question_id': 229768162, 'answer': 'yes'}, {'question_id': 229768145, 'answer': 'tennis'}, {'question_id': 229768037, 'answer': 'yes'}, {'question_id': 229768210, 'answer': 'tennis'}, {'question_id': 229768125, 'answer': 'tennis'}, {'question_id': 229768144, 'answer': 'skateboarding'}, {'question_id': 229768193, 'answer': '2'}, {'question_id': 229768129, 'answer': 'tennis'}, {'question_id': 229768065, 'answer': 'yes'}, {'question_id': 229768244, 'answer': 'skateboarding'}, {'question_id': 229768223, 'answer': '2'}, {'question_id': 229768074, 'answer': 'yes'}, {'question_id': 229768239, 'answer': 'yes'}, {'question_id': 229768228, 'answer': 'yes'}, {'question_id': 229768030, 'answer': 'nothing'}, {'question_id': 229768124, 'answer': 'tennis'}, {'question_id': 229768040, 'answer': 'yes'}, {'question_id': 229768012, 'answer': 'skateboard'}, {'question_id': 229768005, 'answer': 'blue'}, {'question_id': 229768011, 'answer': 'male'}, {'question_id': 515223003, 'answer': 'dog'}, {'question_id': 315716001, 'answer': 'dog'}, {'question_id': 315716003, 'answer': 'yes'}, {'question_id': 315716006, 'answer': 'yes'}, {'question_id': 266194003, 'answer': '2'}, {'question_id': 158257002, 'answer': 'yes'}, {'question_id': 158257006, 'answer': 'broccoli'}, {'question_id': 158257022, 'answer': 'yes'}, {'question_id': 158257014, 'answer': 'broccoli'}, {'question_id': 158257011, 'answer': 'yes'}, {'question_id': 323383017, 'answer': 'train'}, {'question_id': 323383020, 'answer': 'left'}, {'question_id': 323383009, 'answer': 'on road'}, {'question_id': 323383029, 'answer': 'yes'}, {'question_id': 323383016, 'answer': 'yes'}, {'question_id': 323383037, 'answer': 'train'}, {'question_id': 323383035, 'answer': 'umbrella'}, {'question_id': 323383013, 'answer': 'yes'}, {'question_id': 323383012, 'answer': 'on road'}, {'question_id': 323383000, 'answer': 'yes'}, {'question_id': 323383005, 'answer': 'train'}, {'question_id': 323383014, 'answer': 'yes'}, {'question_id': 323383025, 'answer': 'stop'}, {'question_id': 323383006, 'answer': 'train'}, {'question_id': 465382004, 'answer': 'yes'}, {'question_id': 465382018, 'answer': 'yes'}, {'question_id': 465382014, 'answer': 'yes'}, {'question_id': 465382023, 'answer': 'water'}, {'question_id': 465382002, 'answer': 'yes'}, {'question_id': 329774016, 'answer': 'yes'}, {'question_id': 329774012, 'answer': 'yes'}, {'question_id': 209417003, 'answer': 'water'}, {'question_id': 209417008, 'answer': 'yes'}, {'question_id': 555466004, 'answer': '2'}, {'question_id': 555466012, 'answer': 'yes'}, {'question_id': 555466011, 'answer': '2'}, {'question_id': 555466001, 'answer': 'yes'}, {'question_id': 555466007, 'answer': 'yes'}, {'question_id': 555466008, 'answer': 'yes'}, {'question_id': 555466013, 'answer': 'hot'}, {'question_id': 555466004, 'answer': '2'}, {'question_id': 555466012, 'answer': 'yes'}, {'question_id': 555466011, 'answer': '2'}, {'question_id': 555466001, 'answer': 'yes'}, {'question_id': 555466007, 'answer': 'yes'}, {'question_id': 555466008, 'answer': 'yes'}, {'question_id': 555466013, 'answer': 'hot'}, {'question_id': 282739006, 'answer': 'on'}, {'question_id': 350673065, 'answer': 'motorcycle'}, {'question_id': 350673091, 'answer': '2'}, {'question_id': 350673023, 'answer': 'on road'}, {'question_id': 350673062, 'answer': 'helmet'}, {'question_id': 350673098, 'answer': 'dog'}, {'question_id': 350673057, 'answer': 'yes'}, {'question_id': 350673072, 'answer': 'motorcycle'}, {'question_id': 350673000, 'answer': 'hat'}, {'question_id': 350673066, 'answer': 'none'}, {'question_id': 350673084, 'answer': 'yes'}, {'question_id': 350673018, 'answer': 'yes'}, {'question_id': 350673052, 'answer': 'man'}, {'question_id': 350673105, 'answer': 'on road'}, {'question_id': 350673025, 'answer': 'none'}, {'question_id': 350673001, 'answer': '2'}, {'question_id': 350673038, 'answer': '2'}, {'question_id': 350673037, 'answer': 'umbrella'}, {'question_id': 350673005, 'answer': 'yes'}, {'question_id': 350673006, 'answer': '2'}, {'question_id': 350673013, 'answer': 'right'}, {'question_id': 350673092, 'answer': 'jeans'}, {'question_id': 350673028, 'answer': 'yes'}, {'question_id': 350673086, 'answer': 'skateboarding'}, {'question_id': 350673102, 'answer': 'yes'}, {'question_id': 290271012, 'answer': 'white'}, {'question_id': 290271002, 'answer': 'skateboard'}, {'question_id': 67610001, 'answer': 'yes'}, {'question_id': 287728006, 'answer': 'yes'}, {'question_id': 287728009, 'answer': 'none'}, {'question_id': 287728001, 'answer': 'yes'}, {'question_id': 287728000, 'answer': 'yes'}, {'question_id': 287728002, 'answer': 'yes'}, {'question_id': 418542002, 'answer': 'phone'}, {'question_id': 418542001, 'answer': 'nothing'}, {'question_id': 418542006, 'answer': 'nothing'}, {'question_id': 557332006, 'answer': 'stop'}, {'question_id': 557332011, 'answer': 'brick'}, {'question_id': 557332004, 'answer': 'stop'}, {'question_id': 472458003, 'answer': 'broccoli'}, {'question_id': 8129017, 'answer': 'yes'}, {'question_id': 8129009, 'answer': 'broccoli'}, {'question_id': 8129011, 'answer': 'broccoli'}, {'question_id': 8129002, 'answer': 'yes'}, {'question_id': 8129012, 'answer': 'broccoli'}, {'question_id': 49584003, 'answer': 'yes'}, {'question_id': 49584016, 'answer': '2'}, {'question_id': 49584019, 'answer': 'sitting'}, {'question_id': 307485001, 'answer': 'yes'}, {'question_id': 307485003, 'answer': 'water'}, {'question_id': 307485006, 'answer': 'right'}, {'question_id': 467185001, 'answer': 'yes'}, {'question_id': 467185007, 'answer': 'no'}, {'question_id': 467185009, 'answer': 'water'}, {'question_id': 307485001, 'answer': 'yes'}, {'question_id': 307485003, 'answer': 'water'}, {'question_id': 307485006, 'answer': 'right'}, {'question_id': 563893006, 'answer': 'yes'}]\n",
      "result size: 182704\n"
     ]
    },
    {
     "name": "stdout",
     "output_type": "stream",
     "text": [
      ">>>> Batch #  684 [68400, 253191, 493396, 296841, 75366, 198966, 350760, 573350, 437679, 437679, 437679, 461184, 572773, 326241, 451838, 326241, 433394, 277159, 458440, 546536, 120878, 469528, 527673, 69845, 557007, 124586, 381094, 491923, 492577, 67863, 548531, 539248]\n",
      ">>>> Batch Output #  [{'question_id': 68400012, 'answer': 'yes'}, {'question_id': 68400000, 'answer': 'tennis'}, {'question_id': 68400004, 'answer': 'standing'}, {'question_id': 68400009, 'answer': '4'}, {'question_id': 68400008, 'answer': 'tennis'}, {'question_id': 253191005, 'answer': 'yes'}, {'question_id': 253191006, 'answer': 'yes'}, {'question_id': 253191011, 'answer': 'yes'}, {'question_id': 253191008, 'answer': 'yes'}, {'question_id': 253191018, 'answer': '4'}, {'question_id': 493396008, 'answer': 'bus'}, {'question_id': 493396001, 'answer': 'red'}, {'question_id': 493396005, 'answer': 'yes'}, {'question_id': 493396007, 'answer': 'yes'}, {'question_id': 296841001, 'answer': 'yes'}, {'question_id': 296841002, 'answer': '2'}, {'question_id': 296841005, 'answer': 'yes'}, {'question_id': 75366015, 'answer': 'blue'}, {'question_id': 75366002, 'answer': 'yes'}, {'question_id': 75366004, 'answer': 'yes'}, {'question_id': 75366014, 'answer': 'male'}, {'question_id': 75366008, 'answer': '4'}, {'question_id': 75366009, 'answer': '4'}, {'question_id': 198966012, 'answer': 'yes'}, {'question_id': 198966046, 'answer': 'man'}, {'question_id': 198966029, 'answer': 'white'}, {'question_id': 198966008, 'answer': 'grass'}, {'question_id': 198966034, 'answer': '2'}, {'question_id': 198966014, 'answer': 'frisbee'}, {'question_id': 198966054, 'answer': 'sheep'}, {'question_id': 198966018, 'answer': 'yes'}, {'question_id': 198966020, 'answer': 'frisbee'}, {'question_id': 198966044, 'answer': 'yes'}, {'question_id': 198966003, 'answer': 'giraffe'}, {'question_id': 350760005, 'answer': 'no'}, {'question_id': 573350005, 'answer': 'giraffe'}, {'question_id': 437679008, 'answer': 'yes'}, {'question_id': 437679015, 'answer': 'tile'}, {'question_id': 437679012, 'answer': 'toilet'}, {'question_id': 437679005, 'answer': '2'}, {'question_id': 437679017, 'answer': 'yes'}, {'question_id': 437679008, 'answer': 'yes'}, {'question_id': 437679015, 'answer': 'tile'}, {'question_id': 437679012, 'answer': 'toilet'}, {'question_id': 437679005, 'answer': '2'}, {'question_id': 437679017, 'answer': 'yes'}, {'question_id': 437679008, 'answer': 'yes'}, {'question_id': 437679015, 'answer': 'tile'}, {'question_id': 437679012, 'answer': 'toilet'}, {'question_id': 437679005, 'answer': '2'}, {'question_id': 437679017, 'answer': 'yes'}, {'question_id': 461184006, 'answer': 'yes'}, {'question_id': 461184003, 'answer': 'yes'}, {'question_id': 461184000, 'answer': 'tennis'}, {'question_id': 572773001, 'answer': 'umbrella'}, {'question_id': 326241000, 'answer': 'white'}, {'question_id': 326241021, 'answer': 'yes'}, {'question_id': 326241012, 'answer': 'blue'}, {'question_id': 326241002, 'answer': 'yes'}, {'question_id': 326241011, 'answer': 'yes'}, {'question_id': 326241023, 'answer': 'on table'}, {'question_id': 326241024, 'answer': 'playing wii'}, {'question_id': 326241008, 'answer': 'yes'}, {'question_id': 326241022, 'answer': 'yes'}, {'question_id': 451838022, 'answer': 'yes'}, {'question_id': 451838011, 'answer': 'yes'}, {'question_id': 451838009, 'answer': 'yes'}, {'question_id': 451838039, 'answer': 'yes'}, {'question_id': 451838041, 'answer': '2'}, {'question_id': 451838024, 'answer': 'white'}, {'question_id': 451838018, 'answer': 'on wall'}, {'question_id': 451838021, 'answer': 'yes'}, {'question_id': 451838036, 'answer': '2'}, {'question_id': 451838001, 'answer': 'yes'}, {'question_id': 451838029, 'answer': 'yes'}, {'question_id': 451838002, 'answer': 'to eat'}, {'question_id': 451838013, 'answer': 'tennis'}, {'question_id': 326241000, 'answer': 'white'}, {'question_id': 326241021, 'answer': 'yes'}, {'question_id': 326241012, 'answer': 'blue'}, {'question_id': 326241002, 'answer': 'yes'}, {'question_id': 326241011, 'answer': 'yes'}, {'question_id': 326241023, 'answer': 'on table'}, {'question_id': 326241024, 'answer': 'playing wii'}, {'question_id': 326241008, 'answer': 'yes'}, {'question_id': 326241022, 'answer': 'yes'}, {'question_id': 433394002, 'answer': 'giraffe'}, {'question_id': 433394004, 'answer': 'yes'}, {'question_id': 433394011, 'answer': 'yes'}, {'question_id': 433394008, 'answer': 'giraffe'}, {'question_id': 277159024, 'answer': 'playing wii'}, {'question_id': 277159012, 'answer': 'yes'}, {'question_id': 277159002, 'answer': 'yes'}, {'question_id': 277159004, 'answer': '2'}, {'question_id': 277159006, 'answer': 'in front'}, {'question_id': 277159000, 'answer': 'yes'}, {'question_id': 277159025, 'answer': 'playing wii'}, {'question_id': 458440003, 'answer': 'yes'}, {'question_id': 458440005, 'answer': 'white'}, {'question_id': 458440009, 'answer': 'night'}, {'question_id': 458440015, 'answer': 'yes'}, {'question_id': 458440007, 'answer': 'banana'}, {'question_id': 458440001, 'answer': 'banana'}, {'question_id': 458440011, 'answer': 'yes'}, {'question_id': 458440013, 'answer': 'white'}, {'question_id': 546536002, 'answer': '2'}, {'question_id': 120878006, 'answer': 'sunny'}, {'question_id': 120878010, 'answer': 'stop'}, {'question_id': 120878001, 'answer': 'yes'}, {'question_id': 120878009, 'answer': 'stop'}, {'question_id': 120878008, 'answer': 'stop'}, {'question_id': 469528004, 'answer': 'train'}, {'question_id': 469528020, 'answer': '2'}, {'question_id': 469528014, 'answer': 'yes'}, {'question_id': 469528012, 'answer': 'yes'}, {'question_id': 469528018, 'answer': 'yes'}, {'question_id': 527673021, 'answer': 'bus'}, {'question_id': 527673027, 'answer': 'stop'}, {'question_id': 527673003, 'answer': 'bus'}, {'question_id': 527673020, 'answer': 'bus'}, {'question_id': 527673030, 'answer': 'on bus'}, {'question_id': 527673012, 'answer': 'yes'}, {'question_id': 527673033, 'answer': 'red'}, {'question_id': 527673023, 'answer': 'bus'}, {'question_id': 527673043, 'answer': 'red'}, {'question_id': 527673040, 'answer': 'bus'}, {'question_id': 527673017, 'answer': 'bus'}, {'question_id': 527673042, 'answer': '4'}, {'question_id': 527673031, 'answer': 'red'}, {'question_id': 69845013, 'answer': 'toilet'}, {'question_id': 69845001, 'answer': 'yes'}, {'question_id': 69845020, 'answer': 'yes'}, {'question_id': 69845008, 'answer': 'yes'}, {'question_id': 69845017, 'answer': 'yes'}, {'question_id': 557007002, 'answer': 'yes'}, {'question_id': 557007009, 'answer': 'white'}, {'question_id': 557007014, 'answer': 'toilet'}, {'question_id': 557007018, 'answer': 'yes'}, {'question_id': 557007011, 'answer': '2'}, {'question_id': 557007008, 'answer': 'yes'}, {'question_id': 124586011, 'answer': 'yes'}, {'question_id': 124586004, 'answer': 'yes'}, {'question_id': 124586041, 'answer': 'on road'}, {'question_id': 124586000, 'answer': 'yes'}, {'question_id': 124586009, 'answer': 'yes'}, {'question_id': 124586012, 'answer': 'red'}, {'question_id': 124586019, 'answer': 'yes'}, {'question_id': 124586042, 'answer': 'yes'}, {'question_id': 124586015, 'answer': 'yes'}, {'question_id': 124586033, 'answer': 'yes'}, {'question_id': 124586051, 'answer': '2'}, {'question_id': 124586022, 'answer': 'yes'}, {'question_id': 381094006, 'answer': '4'}, {'question_id': 491923004, 'answer': 'yes'}, {'question_id': 492577000, 'answer': 'phone'}, {'question_id': 67863011, 'answer': '2'}, {'question_id': 67863005, 'answer': 'yes'}, {'question_id': 67863007, 'answer': 'yes'}, {'question_id': 548531007, 'answer': 'white'}, {'question_id': 548531013, 'answer': '2'}, {'question_id': 548531016, 'answer': 'scissors'}, {'question_id': 548531002, 'answer': 'yes'}, {'question_id': 548531009, 'answer': 'white'}, {'question_id': 539248006, 'answer': 'grass'}, {'question_id': 539248016, 'answer': 'yes'}, {'question_id': 539248022, 'answer': 'yes'}, {'question_id': 539248015, 'answer': 'yes'}, {'question_id': 539248021, 'answer': 'yes'}, {'question_id': 539248008, 'answer': 'yes'}, {'question_id': 539248018, 'answer': 'white'}, {'question_id': 539248003, 'answer': 'in front'}, {'question_id': 539248025, 'answer': 'baseball'}, {'question_id': 539248000, 'answer': 'to fall'}, {'question_id': 539248013, 'answer': 'white'}, {'question_id': 539248010, 'answer': '2'}]\n",
      "result size: 183935\n"
     ]
    },
    {
     "name": "stdout",
     "output_type": "stream",
     "text": [
      ">>>> Batch #  693 [93315, 435597, 408380, 229768, 462128, 363029, 440203, 565237, 193563, 447635, 448790, 357110, 293234, 34813, 516817, 417073, 499099, 243794, 106509, 418286, 52304, 388306, 504913, 94032, 557707, 517475, 137987, 568844, 30081, 377827, 307753, 467134]\n",
      ">>>> Batch Output #  [{'question_id': 93315076, 'answer': 'stop'}, {'question_id': 93315052, 'answer': 'yes'}, {'question_id': 93315046, 'answer': 'stop'}, {'question_id': 93315047, 'answer': 'red'}, {'question_id': 93315044, 'answer': 'yes'}, {'question_id': 93315039, 'answer': 'yes'}, {'question_id': 93315057, 'answer': '2'}, {'question_id': 93315056, 'answer': 'yes'}, {'question_id': 93315028, 'answer': 'yes'}, {'question_id': 93315089, 'answer': 'left'}, {'question_id': 93315063, 'answer': 'yes'}, {'question_id': 93315041, 'answer': 'yes'}, {'question_id': 93315086, 'answer': '12 : 10'}, {'question_id': 93315083, 'answer': 'red'}, {'question_id': 93315023, 'answer': 'yes'}, {'question_id': 93315064, 'answer': 'yes'}, {'question_id': 93315070, 'answer': 'yes'}, {'question_id': 93315042, 'answer': '2'}, {'question_id': 93315054, 'answer': 'yes'}, {'question_id': 93315002, 'answer': 'yes'}, {'question_id': 93315008, 'answer': 'yes'}, {'question_id': 93315038, 'answer': 'yes'}, {'question_id': 93315003, 'answer': 'yes'}, {'question_id': 93315034, 'answer': 'yes'}, {'question_id': 93315055, 'answer': 'yes'}, {'question_id': 93315004, 'answer': 'yes'}, {'question_id': 93315074, 'answer': '2'}, {'question_id': 93315081, 'answer': 'wood'}, {'question_id': 435597001, 'answer': 'yes'}, {'question_id': 408380003, 'answer': '2'}, {'question_id': 229768077, 'answer': 'playing tennis'}, {'question_id': 229768000, 'answer': 'yes'}, {'question_id': 229768081, 'answer': 'yes'}, {'question_id': 229768140, 'answer': 'tennis'}, {'question_id': 229768044, 'answer': '2'}, {'question_id': 229768087, 'answer': 'on ground'}, {'question_id': 229768160, 'answer': 'none'}, {'question_id': 229768137, 'answer': 'yes'}, {'question_id': 229768204, 'answer': 'man'}, {'question_id': 229768010, 'answer': 'yes'}, {'question_id': 229768191, 'answer': 'yes'}, {'question_id': 229768004, 'answer': 'tennis racket'}, {'question_id': 229768100, 'answer': 'nike'}, {'question_id': 229768032, 'answer': 'yes'}, {'question_id': 229768230, 'answer': '2'}, {'question_id': 229768215, 'answer': 'yes'}, {'question_id': 229768127, 'answer': 'blue'}, {'question_id': 229768078, 'answer': 'yes'}, {'question_id': 229768053, 'answer': 'tennis'}, {'question_id': 229768031, 'answer': 'yes'}, {'question_id': 229768201, 'answer': 'yes'}, {'question_id': 229768114, 'answer': 'yes'}, {'question_id': 229768217, 'answer': '2'}, {'question_id': 229768171, 'answer': 'skateboard'}, {'question_id': 229768157, 'answer': 'white'}, {'question_id': 229768049, 'answer': 'yes'}, {'question_id': 229768232, 'answer': 'tennis'}, {'question_id': 229768094, 'answer': 'skateboard'}, {'question_id': 229768082, 'answer': 'tennis'}, {'question_id': 229768184, 'answer': 'yes'}, {'question_id': 229768142, 'answer': 'tennis'}, {'question_id': 229768041, 'answer': 'yes'}, {'question_id': 229768120, 'answer': 'beach'}, {'question_id': 229768028, 'answer': 'skateboard'}, {'question_id': 229768091, 'answer': 'tennis'}, {'question_id': 229768212, 'answer': '2'}, {'question_id': 229768155, 'answer': 'yes'}, {'question_id': 229768029, 'answer': 'soccer'}, {'question_id': 229768214, 'answer': 'tennis'}, {'question_id': 229768221, 'answer': 'playing tennis'}, {'question_id': 229768089, 'answer': 'soccer'}, {'question_id': 229768017, 'answer': 'red'}, {'question_id': 229768235, 'answer': 'yes'}, {'question_id': 229768038, 'answer': 'hat'}, {'question_id': 229768162, 'answer': 'yes'}, {'question_id': 229768145, 'answer': 'tennis'}, {'question_id': 229768037, 'answer': 'yes'}, {'question_id': 229768210, 'answer': 'tennis'}, {'question_id': 229768125, 'answer': 'tennis'}, {'question_id': 229768144, 'answer': 'skateboarding'}, {'question_id': 229768193, 'answer': '2'}, {'question_id': 229768129, 'answer': 'tennis'}, {'question_id': 229768065, 'answer': 'yes'}, {'question_id': 229768244, 'answer': 'skateboarding'}, {'question_id': 229768223, 'answer': '2'}, {'question_id': 229768074, 'answer': 'yes'}, {'question_id': 229768239, 'answer': 'yes'}, {'question_id': 229768228, 'answer': 'yes'}, {'question_id': 229768030, 'answer': 'nothing'}, {'question_id': 229768124, 'answer': 'tennis'}, {'question_id': 229768040, 'answer': 'yes'}, {'question_id': 229768012, 'answer': 'skateboard'}, {'question_id': 229768005, 'answer': 'blue'}, {'question_id': 229768011, 'answer': 'male'}, {'question_id': 462128021, 'answer': '2'}, {'question_id': 462128012, 'answer': 'yes'}, {'question_id': 462128029, 'answer': 'kite'}, {'question_id': 462128005, 'answer': 'yes'}, {'question_id': 462128024, 'answer': 'kite'}, {'question_id': 462128020, 'answer': 'kite'}, {'question_id': 462128027, 'answer': 'skiing'}, {'question_id': 363029001, 'answer': 'yes'}, {'question_id': 363029017, 'answer': 'yes'}, {'question_id': 363029024, 'answer': 'in front'}, {'question_id': 363029015, 'answer': '2'}, {'question_id': 363029023, 'answer': 'giraffe'}, {'question_id': 363029002, 'answer': 'yes'}, {'question_id': 363029008, 'answer': 'down'}, {'question_id': 363029021, 'answer': 'standing'}, {'question_id': 363029003, 'answer': 'yes'}, {'question_id': 440203004, 'answer': 'yes'}, {'question_id': 565237005, 'answer': 'tennis'}, {'question_id': 565237001, 'answer': 'hat'}, {'question_id': 565237006, 'answer': 'nike'}, {'question_id': 193563001, 'answer': 'teddy bear'}, {'question_id': 193563007, 'answer': 'yes'}, {'question_id': 193563017, 'answer': 'yes'}, {'question_id': 193563013, 'answer': 'phone'}, {'question_id': 193563009, 'answer': '2'}, {'question_id': 193563012, 'answer': 'yes'}, {'question_id': 193563019, 'answer': 'yes'}, {'question_id': 193563015, 'answer': 'white'}, {'question_id': 447635034, 'answer': 'boy'}, {'question_id': 447635041, 'answer': 'pizza'}, {'question_id': 447635016, 'answer': 'dog'}, {'question_id': 447635038, 'answer': 'dog'}, {'question_id': 447635024, 'answer': 'yes'}, {'question_id': 447635021, 'answer': 'on top'}, {'question_id': 447635042, 'answer': 'banana'}, {'question_id': 447635017, 'answer': 'hot dog'}, {'question_id': 447635026, 'answer': 'white'}, {'question_id': 447635023, 'answer': 'yes'}, {'question_id': 448790001, 'answer': 'yes'}, {'question_id': 357110003, 'answer': '2'}, {'question_id': 357110001, 'answer': 'yes'}, {'question_id': 293234003, 'answer': 'cow'}, {'question_id': 293234001, 'answer': 'frisbee'}, {'question_id': 34813000, 'answer': 'yes'}, {'question_id': 516817021, 'answer': 'toilet'}, {'question_id': 516817015, 'answer': 'white'}, {'question_id': 516817007, 'answer': 'toilet'}, {'question_id': 516817022, 'answer': 'yes'}, {'question_id': 417073005, 'answer': 'no'}, {'question_id': 417073004, 'answer': 'vase'}, {'question_id': 499099003, 'answer': 'yes'}, {'question_id': 499099002, 'answer': '2'}, {'question_id': 499099000, 'answer': 'standing'}, {'question_id': 243794000, 'answer': 'yes'}, {'question_id': 106509006, 'answer': 'sitting'}, {'question_id': 106509000, 'answer': 'white'}, {'question_id': 106509001, 'answer': 'yes'}, {'question_id': 106509004, 'answer': 'yes'}, {'question_id': 418286013, 'answer': 'man'}, {'question_id': 418286040, 'answer': 'yes'}, {'question_id': 418286036, 'answer': 'man'}, {'question_id': 418286004, 'answer': 'no'}, {'question_id': 418286011, 'answer': 'man'}, {'question_id': 418286037, 'answer': 'man'}, {'question_id': 418286030, 'answer': 'yes'}, {'question_id': 418286042, 'answer': 'white'}, {'question_id': 52304007, 'answer': 'yes'}, {'question_id': 52304001, 'answer': 'white'}, {'question_id': 52304009, 'answer': 'yes'}, {'question_id': 388306005, 'answer': 'yes'}, {'question_id': 388306035, 'answer': 'toilet'}, {'question_id': 388306011, 'answer': 'white'}, {'question_id': 388306013, 'answer': 'yes'}, {'question_id': 388306006, 'answer': 'yes'}, {'question_id': 388306007, 'answer': 'tile'}, {'question_id': 388306012, 'answer': '2'}, {'question_id': 388306027, 'answer': 'wood'}, {'question_id': 388306019, 'answer': 'yes'}, {'question_id': 388306032, 'answer': 'toilet'}, {'question_id': 388306018, 'answer': 'living room'}, {'question_id': 388306003, 'answer': 'yes'}, {'question_id': 388306015, 'answer': 'apple'}, {'question_id': 388306023, 'answer': 'yes'}, {'question_id': 504913006, 'answer': '2'}, {'question_id': 94032004, 'answer': 'on road'}, {'question_id': 557707001, 'answer': 'to eat'}, {'question_id': 517475010, 'answer': 'yes'}, {'question_id': 517475026, 'answer': 'coffee'}, {'question_id': 517475008, 'answer': 'on table'}, {'question_id': 517475023, 'answer': '2'}, {'question_id': 137987000, 'answer': 'yes'}, {'question_id': 568844032, 'answer': 'yes'}, {'question_id': 568844018, 'answer': 'yes'}, {'question_id': 568844017, 'answer': 'yes'}, {'question_id': 568844023, 'answer': 'toilet'}, {'question_id': 568844002, 'answer': 'yes'}, {'question_id': 568844035, 'answer': 'no'}, {'question_id': 568844021, 'answer': 'no'}, {'question_id': 568844031, 'answer': 'no'}, {'question_id': 568844003, 'answer': 'on top'}, {'question_id': 30081005, 'answer': 'yes'}, {'question_id': 30081002, 'answer': '2'}, {'question_id': 377827017, 'answer': 'surfing'}, {'question_id': 377827016, 'answer': 'yes'}, {'question_id': 377827003, 'answer': 'on'}, {'question_id': 377827013, 'answer': 'yes'}, {'question_id': 377827005, 'answer': 'yes'}, {'question_id': 377827007, 'answer': 'snow'}, {'question_id': 377827009, 'answer': 'skateboarding'}, {'question_id': 377827025, 'answer': 'skateboard'}, {'question_id': 307753000, 'answer': '2'}, {'question_id': 307753008, 'answer': 'on top'}, {'question_id': 307753012, 'answer': 'white'}, {'question_id': 307753004, 'answer': 'white'}, {'question_id': 307753010, 'answer': 'yes'}, {'question_id': 467134001, 'answer': 'yes'}, {'question_id': 467134010, 'answer': 'yes'}, {'question_id': 467134002, 'answer': 'yes'}]\n",
      "result size: 185329\n"
     ]
    },
    {
     "name": "stdout",
     "output_type": "stream",
     "text": [
      "=========== mps sync, gc, and mps empty cache and reload ==========\n",
      "current mps allocated memory: 2324026624\n",
      "current mps driver allocated memory: 30372364288\n",
      "after empyt cache\n",
      "current mps allocated memory: 2324026624\n",
      "current mps driver allocated memory: 15906209792\n",
      ">>>> Batch #  699  >>>> Storing JSON data ending with result: 186116\n",
      ">>>> Batch #  702 [382076, 311609, 489390, 489390, 478601, 205426, 53441, 348714, 299814, 100609, 179694, 419841, 413412, 376120, 55283, 109014, 11738, 321738, 94432, 151446, 11738, 122449, 456402, 92893, 360930, 160431, 455837, 518616, 165902, 75191, 540020, 88196]\n",
      ">>>> Batch Output #  [{'question_id': 382076008, 'answer': 'on top'}, {'question_id': 382076007, 'answer': 'yes'}, {'question_id': 311609010, 'answer': 'yes'}, {'question_id': 311609007, 'answer': 'yes'}, {'question_id': 311609003, 'answer': 'yes'}, {'question_id': 489390005, 'answer': 'banana?沢 [unused199] [unused199] [unused199]'}, {'question_id': 489390001, 'answer': 'yes? accused [unused199] [unused199] [unused199]'}, {'question_id': 489390005, 'answer': 'banana?沢 [unused199] [unused199] [unused199]'}, {'question_id': 489390001, 'answer': 'yes? accused [unused199] [unused199] [unused199]'}, {'question_id': 478601004, 'answer': 'kite'}, {'question_id': 205426000, 'answer': '2'}, {'question_id': 205426002, 'answer': 'water'}, {'question_id': 53441005, 'answer': 'sunny'}, {'question_id': 53441086, 'answer': 'kite'}, {'question_id': 53441062, 'answer': 'stop'}, {'question_id': 53441075, 'answer': '2'}, {'question_id': 53441036, 'answer': '2'}, {'question_id': 53441064, 'answer': 'yes'}, {'question_id': 53441045, 'answer': 'yes'}, {'question_id': 53441035, 'answer': 'yes'}, {'question_id': 53441068, 'answer': 'surfing'}, {'question_id': 53441052, 'answer': 'yes'}, {'question_id': 53441014, 'answer': 'flying'}, {'question_id': 53441031, 'answer': 'yes'}, {'question_id': 53441028, 'answer': 'yes'}, {'question_id': 53441066, 'answer': 'yes'}, {'question_id': 53441083, 'answer': 'in'}, {'question_id': 53441082, 'answer': 'yes'}, {'question_id': 53441025, 'answer': 'airplane'}, {'question_id': 53441060, 'answer': '2'}, {'question_id': 53441050, 'answer': 'yes'}, {'question_id': 53441043, 'answer': 'yes'}, {'question_id': 53441010, 'answer': '2'}, {'question_id': 53441001, 'answer': 'snow'}, {'question_id': 53441077, 'answer': 'yes'}, {'question_id': 348714007, 'answer': 'yes'}, {'question_id': 348714005, 'answer': 'yes'}, {'question_id': 299814004, 'answer': '2? him [unused199] [unused199] [unused199]'}, {'question_id': 100609002, 'answer': 'yes'}, {'question_id': 179694002, 'answer': 'wii'}, {'question_id': 179694011, 'answer': 'yes'}, {'question_id': 179694000, 'answer': 'pizza'}, {'question_id': 179694009, 'answer': 'nothing'}, {'question_id': 179694027, 'answer': 'yes'}, {'question_id': 179694014, 'answer': 'white'}, {'question_id': 179694021, 'answer': 'yes'}, {'question_id': 179694018, 'answer': 'yes'}, {'question_id': 179694023, 'answer': 'wood'}, {'question_id': 419841004, 'answer': 'white'}, {'question_id': 419841005, 'answer': 'yes'}, {'question_id': 413412006, 'answer': 'yes? accused [unused199] [unused199] [unused199]'}, {'question_id': 413412004, 'answer': 'yes? accused [unused199] [unused199] [unused199]'}, {'question_id': 413412002, 'answer': 'water? heavily [unused199] [unused199] [unused199]'}, {'question_id': 376120002, 'answer': 'yes? accused [unused199] [unused199] [unused199]'}, {'question_id': 55283000, 'answer': 'yes'}, {'question_id': 55283006, 'answer': 'bro'}, {'question_id': 109014044, 'answer': 'yes'}, {'question_id': 109014022, 'answer': 'helmet'}, {'question_id': 109014039, 'answer': 'yes'}, {'question_id': 109014036, 'answer': 'skiing'}, {'question_id': 109014026, 'answer': 'yes'}, {'question_id': 109014031, 'answer': 'yes'}, {'question_id': 109014018, 'answer': 'walking'}, {'question_id': 109014010, 'answer': 'yes'}, {'question_id': 109014034, 'answer': 'winter'}, {'question_id': 109014033, 'answer': 'yes'}, {'question_id': 109014042, 'answer': 'skiing'}, {'question_id': 11738008, 'answer': 'yes'}, {'question_id': 11738005, 'answer': '2'}, {'question_id': 321738026, 'answer': 'yes'}, {'question_id': 321738011, 'answer': 'white'}, {'question_id': 321738000, 'answer': '2'}, {'question_id': 321738006, 'answer': 'winter'}, {'question_id': 94432009, 'answer': 'yes'}, {'question_id': 94432010, 'answer': 'black'}, {'question_id': 151446001, 'answer': 'no'}, {'question_id': 11738008, 'answer': 'yes'}, {'question_id': 11738005, 'answer': '2'}, {'question_id': 122449018, 'answer': 'yes'}, {'question_id': 122449002, 'answer': 'yes'}, {'question_id': 122449008, 'answer': 'man'}, {'question_id': 122449015, 'answer': 'nothing'}, {'question_id': 122449004, 'answer': 'none'}, {'question_id': 122449012, 'answer': 'yes'}, {'question_id': 122449014, 'answer': 'yes'}, {'question_id': 456402001, 'answer': 'yes'}, {'question_id': 456402002, 'answer': 'yes'}, {'question_id': 92893002, 'answer': 'yes'}, {'question_id': 92893011, 'answer': 'yes'}, {'question_id': 92893014, 'answer': 'eating'}, {'question_id': 360930060, 'answer': 'yes'}, {'question_id': 360930014, 'answer': 'hot'}, {'question_id': 360930059, 'answer': 'broccoli'}, {'question_id': 360930057, 'answer': 'yes'}, {'question_id': 360930021, 'answer': 'broccoli'}, {'question_id': 360930040, 'answer': 'broccoli'}, {'question_id': 360930030, 'answer': 'yes'}, {'question_id': 360930024, 'answer': 'broccoli'}, {'question_id': 360930019, 'answer': 'pizza'}, {'question_id': 360930001, 'answer': 'broccoli'}, {'question_id': 360930008, 'answer': 'broccoli'}, {'question_id': 360930013, 'answer': 'broccoli'}, {'question_id': 360930007, 'answer': 'broccoli'}, {'question_id': 360930000, 'answer': 'yes'}, {'question_id': 360930029, 'answer': 'broccoli'}, {'question_id': 160431005, 'answer': 'yes'}, {'question_id': 160431004, 'answer': 'tennis'}, {'question_id': 160431001, 'answer': 'blue'}, {'question_id': 455837001, 'answer': 'yes'}, {'question_id': 518616004, 'answer': 'yes'}, {'question_id': 518616001, 'answer': 'palm'}, {'question_id': 518616003, 'answer': 'yes'}, {'question_id': 518616006, 'answer': 'water'}, {'question_id': 518616008, 'answer': 'winter'}, {'question_id': 518616007, 'answer': 'beach'}, {'question_id': 518616005, 'answer': 'yes'}, {'question_id': 165902003, 'answer': 'yes? accused [unused199] [unused199] [unused199]'}, {'question_id': 165902000, 'answer': 'wood? democracy [unused199] [unused199] [unused199]'}, {'question_id': 75191022, 'answer': 'yes'}, {'question_id': 75191023, 'answer': 'yes'}, {'question_id': 75191040, 'answer': 'yes'}, {'question_id': 75191044, 'answer': '2'}, {'question_id': 75191004, 'answer': 'yes'}, {'question_id': 75191025, 'answer': '2'}, {'question_id': 75191024, 'answer': 'yes'}, {'question_id': 75191050, 'answer': 'yes'}, {'question_id': 75191032, 'answer': 'red'}, {'question_id': 75191010, 'answer': 'yes'}, {'question_id': 75191038, 'answer': 'train'}, {'question_id': 75191012, 'answer': '2'}, {'question_id': 75191027, 'answer': 'red'}, {'question_id': 75191019, 'answer': 'yes'}, {'question_id': 540020004, 'answer': 'yes? accused [unused199] [unused199] [unused199]'}, {'question_id': 540020012, 'answer': 'sheep? vines [unused199] [unused199] [unused199]'}, {'question_id': 540020001, 'answer': 'gi? focal [unused199]'}, {'question_id': 540020000, 'answer': '2? him [unused199] [unused199] [unused199]'}, {'question_id': 88196005, 'answer': '2'}]\n",
      "result size: 186598\n",
      ">>>> Batch #  711 [183869, 405501, 533425, 274371, 170847, 87615, 407933, 421945, 329309, 354412, 469129, 538568, 171765, 442219, 492873, 576315, 51655, 535780, 436173, 224177, 222161, 109384, 564114, 535562, 189431, 434062, 189756, 189756, 366214, 366214, 33551, 8455]\n",
      ">>>> Batch Output #  [{'question_id': 183869000, 'answer': 'tennis'}, {'question_id': 405501009, 'answer': 'water'}, {'question_id': 405501008, 'answer': '2'}, {'question_id': 405501003, 'answer': 'to eat'}, {'question_id': 533425000, 'answer': 'plate'}, {'question_id': 533425008, 'answer': 'dog'}, {'question_id': 274371005, 'answer': 'yes'}, {'question_id': 274371030, 'answer': 'teddy bear'}, {'question_id': 274371052, 'answer': 'eating'}, {'question_id': 274371049, 'answer': 'hat'}, {'question_id': 274371013, 'answer': 'white'}, {'question_id': 274371028, 'answer': 'teddy bear'}, {'question_id': 274371025, 'answer': 'black'}, {'question_id': 274371008, 'answer': 'yes'}, {'question_id': 274371011, 'answer': 'yes'}, {'question_id': 274371043, 'answer': 'dog'}, {'question_id': 274371045, 'answer': 'banana'}, {'question_id': 274371046, 'answer': 'yes'}, {'question_id': 274371023, 'answer': 'hot dog'}, {'question_id': 274371001, 'answer': '2'}, {'question_id': 274371012, 'answer': 'yes'}, {'question_id': 274371006, 'answer': 'yes'}, {'question_id': 274371041, 'answer': 'sitting'}, {'question_id': 274371040, 'answer': 'teddy bear'}, {'question_id': 170847003, 'answer': 'yes'}, {'question_id': 170847001, 'answer': 'yes'}, {'question_id': 170847002, 'answer': 'white'}, {'question_id': 87615007, 'answer': 'vase'}, {'question_id': 87615019, 'answer': 'white'}, {'question_id': 87615012, 'answer': 'yes'}, {'question_id': 87615005, 'answer': 'yes'}, {'question_id': 87615010, 'answer': 'white'}, {'question_id': 87615001, 'answer': 'white'}, {'question_id': 87615021, 'answer': 'yes'}, {'question_id': 407933002, 'answer': 'tennis'}, {'question_id': 421945004, 'answer': 'red'}, {'question_id': 421945000, 'answer': 'yes'}, {'question_id': 329309004, 'answer': 'yes'}, {'question_id': 329309005, 'answer': 'wood'}, {'question_id': 354412004, 'answer': 'yes'}, {'question_id': 354412006, 'answer': 'yes'}, {'question_id': 469129013, 'answer': 'yes'}, {'question_id': 469129010, 'answer': 'on bus'}, {'question_id': 538568005, 'answer': 'man'}, {'question_id': 538568002, 'answer': 'none'}, {'question_id': 171765001, 'answer': 'sunny'}, {'question_id': 171765007, 'answer': 'stop'}, {'question_id': 442219117, 'answer': 'phone'}, {'question_id': 442219090, 'answer': 'yes'}, {'question_id': 442219068, 'answer': 'woman'}, {'question_id': 442219091, 'answer': 'orange'}, {'question_id': 442219095, 'answer': 'wine'}, {'question_id': 442219007, 'answer': 'pizza'}, {'question_id': 442219006, 'answer': 'yes'}, {'question_id': 442219010, 'answer': 'white'}, {'question_id': 442219063, 'answer': 'yes'}, {'question_id': 442219118, 'answer': 'yes'}, {'question_id': 442219102, 'answer': 'phone'}, {'question_id': 442219128, 'answer': 'yes'}, {'question_id': 442219085, 'answer': 'banana'}, {'question_id': 442219038, 'answer': 'yes'}, {'question_id': 442219061, 'answer': 'white'}, {'question_id': 442219100, 'answer': 'yes'}, {'question_id': 442219031, 'answer': 'in picture'}, {'question_id': 442219111, 'answer': 'white'}, {'question_id': 442219127, 'answer': 'donuts'}, {'question_id': 442219079, 'answer': 'yes'}, {'question_id': 442219084, 'answer': 'wine'}, {'question_id': 442219062, 'answer': 'banana'}, {'question_id': 442219071, 'answer': 'wii'}, {'question_id': 442219094, 'answer': 'yes'}, {'question_id': 442219065, 'answer': 'yes'}, {'question_id': 442219120, 'answer': 'yes'}, {'question_id': 442219055, 'answer': 'kitchen'}, {'question_id': 442219030, 'answer': 'table'}, {'question_id': 492873009, 'answer': '2'}, {'question_id': 492873017, 'answer': 'toilet'}, {'question_id': 492873001, 'answer': 'yes'}, {'question_id': 492873015, 'answer': 'yes'}, {'question_id': 492873008, 'answer': 'yes'}, {'question_id': 492873020, 'answer': 'yes'}, {'question_id': 492873016, 'answer': 'yes'}, {'question_id': 492873000, 'answer': 'toilet'}, {'question_id': 492873013, 'answer': 'yes'}, {'question_id': 492873007, 'answer': 'toilet'}, {'question_id': 492873012, 'answer': 'white'}, {'question_id': 576315003, 'answer': 'red'}, {'question_id': 576315000, 'answer': 'red'}, {'question_id': 576315005, 'answer': 'yes'}, {'question_id': 51655008, 'answer': '2'}, {'question_id': 51655011, 'answer': '2'}, {'question_id': 51655009, 'answer': 'yes'}, {'question_id': 51655029, 'answer': 'toilet'}, {'question_id': 51655005, 'answer': 'no'}, {'question_id': 535780004, 'answer': 'yes'}, {'question_id': 436173003, 'answer': 'yes'}, {'question_id': 436173005, 'answer': '4'}, {'question_id': 436173006, 'answer': 'yes'}, {'question_id': 436173002, 'answer': 'bus'}, {'question_id': 436173009, 'answer': 'bus'}, {'question_id': 224177001, 'answer': '2'}, {'question_id': 222161001, 'answer': 'bed'}, {'question_id': 109384007, 'answer': 'water'}, {'question_id': 109384004, 'answer': 'water'}, {'question_id': 109384001, 'answer': 'yes'}, {'question_id': 564114003, 'answer': 'yes'}, {'question_id': 535562011, 'answer': 'pizza'}, {'question_id': 535562005, 'answer': 'pizza'}, {'question_id': 535562004, 'answer': 'pizza'}, {'question_id': 535562010, 'answer': 'pizza'}, {'question_id': 535562003, 'answer': 'pizza'}, {'question_id': 535562008, 'answer': 'pizza'}, {'question_id': 189431010, 'answer': 'right'}, {'question_id': 189431009, 'answer': 'yes'}, {'question_id': 189431000, 'answer': 'yes'}, {'question_id': 189431011, 'answer': 'yes'}, {'question_id': 189431015, 'answer': 'yes'}, {'question_id': 434062003, 'answer': 'pizza'}, {'question_id': 434062035, 'answer': 'broccoli'}, {'question_id': 434062015, 'answer': 'broccoli'}, {'question_id': 434062005, 'answer': 'broccoli'}, {'question_id': 434062027, 'answer': 'broccoli'}, {'question_id': 434062048, 'answer': 'no'}, {'question_id': 434062021, 'answer': 'broccoli'}, {'question_id': 434062008, 'answer': '2'}, {'question_id': 434062017, 'answer': 'yes'}, {'question_id': 434062022, 'answer': 'yes'}, {'question_id': 189756000, 'answer': 'yes'}, {'question_id': 189756001, 'answer': 'yes'}, {'question_id': 189756005, 'answer': 'brick'}, {'question_id': 189756000, 'answer': 'yes'}, {'question_id': 189756001, 'answer': 'yes'}, {'question_id': 189756005, 'answer': 'brick'}, {'question_id': 366214001, 'answer': 'left'}, {'question_id': 366214005, 'answer': 'yes'}, {'question_id': 366214001, 'answer': 'left'}, {'question_id': 366214005, 'answer': 'yes'}, {'question_id': 33551009, 'answer': 'stop'}, {'question_id': 33551001, 'answer': 'red'}, {'question_id': 33551014, 'answer': 'train'}, {'question_id': 33551013, 'answer': 'winter'}, {'question_id': 8455013, 'answer': 'umbrella'}, {'question_id': 8455002, 'answer': 'yes'}, {'question_id': 8455018, 'answer': 'orange'}, {'question_id': 8455000, 'answer': 'none'}, {'question_id': 8455016, 'answer': 'umbrella'}]\n",
      "result size: 187849\n"
     ]
    },
    {
     "name": "stdout",
     "output_type": "stream",
     "text": [
      ">>>> Batch #  720 [41134, 390103, 415989, 502802, 156419, 132118, 477856, 340031, 216561, 574072, 249312, 533421, 235932, 163188, 382944, 203476, 536076, 549859, 505525, 371181, 477981, 354262, 172414, 134191, 209332, 46208, 330268, 355313, 401964, 325881, 431348, 431348]\n",
      ">>>> Batch Output #  [{'question_id': 41134010, 'answer': 'yes'}, {'question_id': 41134011, 'answer': '2'}, {'question_id': 41134005, 'answer': 'stop'}, {'question_id': 41134008, 'answer': 'red'}, {'question_id': 41134018, 'answer': 'stop'}, {'question_id': 390103010, 'answer': 'bus'}, {'question_id': 390103018, 'answer': 'yes'}, {'question_id': 415989003, 'answer': '2'}, {'question_id': 415989001, 'answer': 'yes'}, {'question_id': 415989011, 'answer': 'yes'}, {'question_id': 415989014, 'answer': 'bus'}, {'question_id': 415989010, 'answer': 'yes'}, {'question_id': 502802002, 'answer': 'yes'}, {'question_id': 156419002, 'answer': 'right'}, {'question_id': 156419000, 'answer': 'yes'}, {'question_id': 156419009, 'answer': 'elephant'}, {'question_id': 156419013, 'answer': 'grass'}, {'question_id': 156419010, 'answer': 'standing'}, {'question_id': 132118000, 'answer': 'frisbee'}, {'question_id': 477856000, 'answer': 'yes'}, {'question_id': 477856011, 'answer': 'yes'}, {'question_id': 477856006, 'answer': 'right'}, {'question_id': 340031011, 'answer': 'yes'}, {'question_id': 340031000, 'answer': '2'}, {'question_id': 340031006, 'answer': '2'}, {'question_id': 216561002, 'answer': 'train'}, {'question_id': 216561003, 'answer': 'red'}, {'question_id': 216561000, 'answer': 'yes'}, {'question_id': 216561007, 'answer': 'bus'}, {'question_id': 574072007, 'answer': 'train'}, {'question_id': 574072001, 'answer': 'bus'}, {'question_id': 574072011, 'answer': 'yes'}, {'question_id': 574072003, 'answer': 'yes'}, {'question_id': 574072002, 'answer': '2'}, {'question_id': 574072014, 'answer': 'red'}, {'question_id': 249312002, 'answer': 'yes'}, {'question_id': 249312007, 'answer': 'airplane'}, {'question_id': 533421004, 'answer': 'to be'}, {'question_id': 533421005, 'answer': 'stop'}, {'question_id': 235932002, 'answer': 'stop'}, {'question_id': 235932014, 'answer': 'stop'}, {'question_id': 163188022, 'answer': 'nothing'}, {'question_id': 163188009, 'answer': 'kitchen'}, {'question_id': 163188019, 'answer': 'yes'}, {'question_id': 382944003, 'answer': '2'}, {'question_id': 382944012, 'answer': 'yes'}, {'question_id': 382944013, 'answer': 'yes'}, {'question_id': 382944010, 'answer': 'yes'}, {'question_id': 382944008, 'answer': 'yes'}, {'question_id': 382944016, 'answer': 'white'}, {'question_id': 203476038, 'answer': '2'}, {'question_id': 203476025, 'answer': 'man'}, {'question_id': 203476035, 'answer': 'yes'}, {'question_id': 203476049, 'answer': 'toilet'}, {'question_id': 203476005, 'answer': 'white'}, {'question_id': 203476034, 'answer': 'tv'}, {'question_id': 203476016, 'answer': 'toilet'}, {'question_id': 203476014, 'answer': 'yes'}, {'question_id': 203476040, 'answer': 'cat'}, {'question_id': 203476048, 'answer': 'toilet'}, {'question_id': 203476037, 'answer': 'tile'}, {'question_id': 203476042, 'answer': 'man'}, {'question_id': 203476004, 'answer': 'yes'}, {'question_id': 203476022, 'answer': '2'}, {'question_id': 203476051, 'answer': 'yes'}, {'question_id': 203476026, 'answer': '2'}, {'question_id': 536076005, 'answer': 'tile'}, {'question_id': 536076041, 'answer': 'yes'}, {'question_id': 536076026, 'answer': 'on wall'}, {'question_id': 536076017, 'answer': 'yes'}, {'question_id': 536076018, 'answer': 'yes'}, {'question_id': 536076032, 'answer': 'yes'}, {'question_id': 536076030, 'answer': 'kitchen'}, {'question_id': 536076034, 'answer': 'white'}, {'question_id': 536076044, 'answer': 'yes'}, {'question_id': 536076038, 'answer': 'kitchen'}, {'question_id': 536076031, 'answer': '2'}, {'question_id': 536076008, 'answer': 'yes'}, {'question_id': 536076022, 'answer': 'toilet'}, {'question_id': 549859001, 'answer': 'blue'}, {'question_id': 549859009, 'answer': 'yes'}, {'question_id': 505525014, 'answer': 'yes'}, {'question_id': 505525015, 'answer': 'yes'}, {'question_id': 505525010, 'answer': 'yes'}, {'question_id': 505525002, 'answer': 'bus'}, {'question_id': 371181001, 'answer': '2'}, {'question_id': 371181004, 'answer': 'red'}, {'question_id': 477981008, 'answer': 'yes'}, {'question_id': 354262004, 'answer': '2'}, {'question_id': 172414000, 'answer': 'yes'}, {'question_id': 172414004, 'answer': 'yes'}, {'question_id': 134191010, 'answer': 'yes'}, {'question_id': 209332007, 'answer': 'yes'}, {'question_id': 209332005, 'answer': 'nothing'}, {'question_id': 46208005, 'answer': 'white'}, {'question_id': 46208001, 'answer': 'yes'}, {'question_id': 330268003, 'answer': 'yes'}, {'question_id': 355313002, 'answer': '2'}, {'question_id': 401964020, 'answer': 'yes'}, {'question_id': 401964010, 'answer': 'living room'}, {'question_id': 401964004, 'answer': 'tile'}, {'question_id': 401964062, 'answer': 'toilet'}, {'question_id': 401964052, 'answer': 'white'}, {'question_id': 401964002, 'answer': 'apple'}, {'question_id': 401964045, 'answer': 'living room'}, {'question_id': 401964025, 'answer': '2'}, {'question_id': 401964065, 'answer': 'white'}, {'question_id': 401964039, 'answer': 'yes'}, {'question_id': 401964024, 'answer': 'toilet'}, {'question_id': 401964043, 'answer': 'living room'}, {'question_id': 401964033, 'answer': '2'}, {'question_id': 401964030, 'answer': 'yes'}, {'question_id': 401964049, 'answer': 'yes'}, {'question_id': 401964063, 'answer': 'yes'}, {'question_id': 401964050, 'answer': 'tile'}, {'question_id': 325881026, 'answer': 'laptop'}, {'question_id': 325881023, 'answer': 'yes'}, {'question_id': 325881011, 'answer': 'laptop'}, {'question_id': 325881022, 'answer': 'white'}, {'question_id': 325881024, 'answer': 'laptop'}, {'question_id': 325881000, 'answer': 'wii'}, {'question_id': 325881015, 'answer': 'yes'}, {'question_id': 325881010, 'answer': 'laptop'}, {'question_id': 431348001, 'answer': 'yes'}, {'question_id': 431348005, 'answer': 'cows'}, {'question_id': 431348002, 'answer': 'yes'}, {'question_id': 431348001, 'answer': 'yes'}, {'question_id': 431348005, 'answer': 'cows'}, {'question_id': 431348002, 'answer': 'yes'}]\n",
      "result size: 189054\n"
     ]
    }
   ],
   "source": [
    "if True: \n",
    "    et = None\n",
    "    model_name = \"train-vqa_no_caption_Jun03_02-34-26\"\n",
    "    test = dataset.VqaCoco()\n",
    "    dataset = ResumableDataset(test, existing_answer_name = \"test_None_model_shuffle_train-vqa_no_caption_Jun03_02-34-26\")\n",
    "    dataloader = DataLoader(dataset, batch_size=batch_size, shuffle=shuffle, collate_fn=fn)\n",
    "    model, _ = reload_model(0.1, model_name, use_captions= False)\n",
    "    run_test(f'test_{et}_model_shuffle_{model_name}', dataloader, model,\n",
    "            early_terminate= et, print_every = 10, sync_after_every_n = 50, pre_result = dataset.answers)"
   ]
  },
  {
   "cell_type": "code",
   "execution_count": null,
   "id": "1e1207d6",
   "metadata": {
    "scrolled": true
   },
   "outputs": [],
   "source": [
    "stuff = iter(dataloader)\n",
    "print(next(stuff))"
   ]
  },
  {
   "cell_type": "code",
   "execution_count": null,
   "id": "c10b4599",
   "metadata": {},
   "outputs": [],
   "source": [
    "print(dataset.missing)\n",
    "dataset.missing.iloc[0]['question_id']"
   ]
  },
  {
   "cell_type": "code",
   "execution_count": null,
   "id": "556d4531",
   "metadata": {},
   "outputs": [],
   "source": [
    "standard_test = dataset.VqaCoco(\"test\", use_standard = True)\n"
   ]
  },
  {
   "cell_type": "code",
   "execution_count": null,
   "id": "fd2f65cb",
   "metadata": {},
   "outputs": [],
   "source": [
    "print(standard_test.image_paths[0])"
   ]
  },
  {
   "cell_type": "code",
   "execution_count": null,
   "id": "fda39f6b",
   "metadata": {},
   "outputs": [],
   "source": [
    "import imagedata\n",
    "data = standard_test.__getitem__(0)\n",
    "print(imagedata.to_dict(data))\n"
   ]
  },
  {
   "cell_type": "code",
   "execution_count": null,
   "id": "ee1d5c55",
   "metadata": {},
   "outputs": [],
   "source": [
    "image_ids = test.questions['image_id'].unique()\n",
    "print(len(image_ids))"
   ]
  },
  {
   "cell_type": "code",
   "execution_count": null,
   "id": "fca830c9",
   "metadata": {},
   "outputs": [],
   "source": [
    "import os\n",
    "\n",
    "def check_images(image_in_question, coco):\n",
    "    image_ids = set(map(lambda image_path: int(os.path.basename(image_path).removesuffix('.jpg')), coco.image_paths))\n",
    "    print(\">>> 1:\", next(iter(image_ids)))\n",
    "    diff =  set(image_in_question.flatten()).difference(image_ids)\n",
    "    print(\"existing diff: \", len(diff))\n",
    "\n",
    "check_images(test.questions['image_id'].unique(), test)"
   ]
  },
  {
   "cell_type": "code",
   "execution_count": null,
   "id": "1bf639c2",
   "metadata": {},
   "outputs": [],
   "source": [
    "print(len(test.image_paths))"
   ]
  },
  {
   "cell_type": "code",
   "execution_count": null,
   "id": "8cb64a56",
   "metadata": {},
   "outputs": [],
   "source": []
  }
 ],
 "metadata": {
  "kernelspec": {
   "display_name": "Python 3 (ipykernel)",
   "language": "python",
   "name": "python3"
  },
  "language_info": {
   "codemirror_mode": {
    "name": "ipython",
    "version": 3
   },
   "file_extension": ".py",
   "mimetype": "text/x-python",
   "name": "python",
   "nbconvert_exporter": "python",
   "pygments_lexer": "ipython3",
   "version": "3.12.1"
  }
 },
 "nbformat": 4,
 "nbformat_minor": 5
}
