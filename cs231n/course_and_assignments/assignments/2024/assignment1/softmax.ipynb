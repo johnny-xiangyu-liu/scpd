{
 "cells": [
  {
   "cell_type": "code",
   "execution_count": 2,
   "id": "36a4a690",
   "metadata": {},
   "outputs": [],
   "source": [
    "# # This mounts your Google Drive to the Colab VM.\n",
    "# from google.colab import drive\n",
    "# drive.mount('/content/drive')\n",
    "\n",
    "# # TODO: Enter the foldername in your Drive where you have saved the unzipped\n",
    "# # assignment folder, e.g. 'cs231n/assignments/assignment1/'\n",
    "# FOLDERNAME = None\n",
    "# assert FOLDERNAME is not None, \"[!] Enter the foldername.\"\n",
    "\n",
    "# # Now that we've mounted your Drive, this ensures that\n",
    "# # the Python interpreter of the Colab VM can load\n",
    "# # python files from within it.\n",
    "# import sys\n",
    "# sys.path.append('/content/drive/My Drive/{}'.format(FOLDERNAME))\n",
    "\n",
    "# # This downloads the CIFAR-10 dataset to your Drive\n",
    "# # if it doesn't already exist.\n",
    "# %cd /content/drive/My\\ Drive/$FOLDERNAME/cs231n/datasets/\n",
    "# !bash get_datasets.sh\n",
    "# %cd /content/drive/My\\ Drive/$FOLDERNAME"
   ]
  },
  {
   "cell_type": "markdown",
   "id": "c4d97e0c",
   "metadata": {
    "tags": [
     "pdf-title"
    ]
   },
   "source": [
    "# Softmax exercise\n",
    "\n",
    "*Complete and hand in this completed worksheet (including its outputs and any supporting code outside of the worksheet) with your assignment submission. For more details see the [assignments page](http://vision.stanford.edu/teaching/cs231n/assignments.html) on the course website.*\n",
    "\n",
    "This exercise is analogous to the SVM exercise. You will:\n",
    "\n",
    "- implement a fully-vectorized **loss function** for the Softmax classifier\n",
    "- implement the fully-vectorized expression for its **analytic gradient**\n",
    "- **check your implementation** with numerical gradient\n",
    "- use a validation set to **tune the learning rate and regularization** strength\n",
    "- **optimize** the loss function with **SGD**\n",
    "- **visualize** the final learned weights\n"
   ]
  },
  {
   "cell_type": "code",
   "execution_count": 3,
   "id": "269361dd",
   "metadata": {
    "tags": [
     "pdf-ignore"
    ]
   },
   "outputs": [],
   "source": [
    "import random\n",
    "import numpy as np\n",
    "from cs231n.data_utils import load_CIFAR10\n",
    "import matplotlib.pyplot as plt\n",
    "\n",
    "%matplotlib inline\n",
    "plt.rcParams['figure.figsize'] = (10.0, 8.0) # set default size of plots\n",
    "plt.rcParams['image.interpolation'] = 'nearest'\n",
    "plt.rcParams['image.cmap'] = 'gray'\n",
    "\n",
    "# for auto-reloading extenrnal modules\n",
    "# see http://stackoverflow.com/questions/1907993/autoreload-of-modules-in-ipython\n",
    "%load_ext autoreload\n",
    "%autoreload 2"
   ]
  },
  {
   "cell_type": "code",
   "execution_count": 4,
   "id": "1170ff72",
   "metadata": {
    "tags": [
     "pdf-ignore"
    ]
   },
   "outputs": [
    {
     "name": "stdout",
     "output_type": "stream",
     "text": [
      "Train data shape:  (49000, 3073)\n",
      "Train labels shape:  (49000,)\n",
      "Validation data shape:  (1000, 3073)\n",
      "Validation labels shape:  (1000,)\n",
      "Test data shape:  (1000, 3073)\n",
      "Test labels shape:  (1000,)\n",
      "dev data shape:  (500, 3073)\n",
      "dev labels shape:  (500,)\n"
     ]
    }
   ],
   "source": [
    "def get_CIFAR10_data(num_training=49000, num_validation=1000, num_test=1000, num_dev=500):\n",
    "    \"\"\"\n",
    "    Load the CIFAR-10 dataset from disk and perform preprocessing to prepare\n",
    "    it for the linear classifier. These are the same steps as we used for the\n",
    "    SVM, but condensed to a single function.  \n",
    "    \"\"\"\n",
    "    # Load the raw CIFAR-10 data\n",
    "    cifar10_dir = 'cs231n/datasets/cifar-10-batches-py'\n",
    "    \n",
    "    # Cleaning up variables to prevent loading data multiple times (which may cause memory issue)\n",
    "    try:\n",
    "       del X_train, y_train\n",
    "       del X_test, y_test\n",
    "       print('Clear previously loaded data.')\n",
    "    except:\n",
    "       pass\n",
    "\n",
    "    X_train, y_train, X_test, y_test = load_CIFAR10(cifar10_dir)\n",
    "    \n",
    "    # subsample the data\n",
    "    mask = list(range(num_training, num_training + num_validation))\n",
    "    X_val = X_train[mask]\n",
    "    y_val = y_train[mask]\n",
    "    mask = list(range(num_training))\n",
    "    X_train = X_train[mask]\n",
    "    y_train = y_train[mask]\n",
    "    mask = list(range(num_test))\n",
    "    X_test = X_test[mask]\n",
    "    y_test = y_test[mask]\n",
    "    mask = np.random.choice(num_training, num_dev, replace=False)\n",
    "    X_dev = X_train[mask]\n",
    "    y_dev = y_train[mask]\n",
    "    \n",
    "    # Preprocessing: reshape the image data into rows\n",
    "    X_train = np.reshape(X_train, (X_train.shape[0], -1))\n",
    "    X_val = np.reshape(X_val, (X_val.shape[0], -1))\n",
    "    X_test = np.reshape(X_test, (X_test.shape[0], -1))\n",
    "    X_dev = np.reshape(X_dev, (X_dev.shape[0], -1))\n",
    "    \n",
    "    # Normalize the data: subtract the mean image\n",
    "    mean_image = np.mean(X_train, axis = 0)\n",
    "    X_train -= mean_image\n",
    "    X_val -= mean_image\n",
    "    X_test -= mean_image\n",
    "    X_dev -= mean_image\n",
    "    \n",
    "    # add bias dimension and transform into columns\n",
    "    X_train = np.hstack([X_train, np.ones((X_train.shape[0], 1))])\n",
    "    X_val = np.hstack([X_val, np.ones((X_val.shape[0], 1))])\n",
    "    X_test = np.hstack([X_test, np.ones((X_test.shape[0], 1))])\n",
    "    X_dev = np.hstack([X_dev, np.ones((X_dev.shape[0], 1))])\n",
    "    \n",
    "    return X_train, y_train, X_val, y_val, X_test, y_test, X_dev, y_dev\n",
    "\n",
    "\n",
    "# Invoke the above function to get our data.\n",
    "X_train, y_train, X_val, y_val, X_test, y_test, X_dev, y_dev = get_CIFAR10_data()\n",
    "print('Train data shape: ', X_train.shape)\n",
    "print('Train labels shape: ', y_train.shape)\n",
    "print('Validation data shape: ', X_val.shape)\n",
    "print('Validation labels shape: ', y_val.shape)\n",
    "print('Test data shape: ', X_test.shape)\n",
    "print('Test labels shape: ', y_test.shape)\n",
    "print('dev data shape: ', X_dev.shape)\n",
    "print('dev labels shape: ', y_dev.shape)"
   ]
  },
  {
   "cell_type": "markdown",
   "id": "1263d7d3",
   "metadata": {},
   "source": [
    "## Softmax Classifier\n",
    "\n",
    "Your code for this section will all be written inside `cs231n/classifiers/softmax.py`.\n"
   ]
  },
  {
   "cell_type": "code",
   "execution_count": 5,
   "id": "91cf6049",
   "metadata": {},
   "outputs": [
    {
     "name": "stdout",
     "output_type": "stream",
     "text": [
      "loss: 2.354988\n",
      "sanity check: 2.302585\n"
     ]
    }
   ],
   "source": [
    "# First implement the naive softmax loss function with nested loops.\n",
    "# Open the file cs231n/classifiers/softmax.py and implement the\n",
    "# softmax_loss_naive function.\n",
    "\n",
    "from cs231n.classifiers.softmax import softmax_loss_naive\n",
    "import time\n",
    "\n",
    "# Generate a random softmax weight matrix and use it to compute the loss.\n",
    "W = np.random.randn(3073, 10) * 0.0001\n",
    "loss, grad = softmax_loss_naive(W, X_dev, y_dev, 0.0)\n",
    "\n",
    "# As a rough sanity check, our loss should be something close to -log(0.1).\n",
    "print('loss: %f' % loss)\n",
    "print('sanity check: %f' % (-np.log(0.1)))"
   ]
  },
  {
   "cell_type": "markdown",
   "id": "d220c9c8",
   "metadata": {
    "tags": [
     "pdf-inline"
    ]
   },
   "source": [
    "**Inline Question 1**\n",
    "\n",
    "Why do we expect our loss to be close to -log(0.1)? Explain briefly.**\n",
    "\n",
    "$\\color{blue}{\\textit Your Answer:}$ because the weight is generated randomly, softmax is making a random guess. for a 10-class classification, a random guess has the accuracy of 10%, so $ \\frac{e^{f_{y_i}}}{\\sum_j{e^{f_j}}} = 0.1$, hence the loss is $-np.log(0.1)$\n",
    "\n"
   ]
  },
  {
   "cell_type": "code",
   "execution_count": 6,
   "id": "0518db59",
   "metadata": {},
   "outputs": [
    {
     "name": "stdout",
     "output_type": "stream",
     "text": [
      "numerical: -2.728362 analytic: -2.728362, relative error: 2.028532e-08\n",
      "numerical: -2.802716 analytic: -2.802716, relative error: 2.308090e-08\n",
      "numerical: -0.278885 analytic: -0.278885, relative error: 8.841593e-08\n",
      "numerical: 0.686268 analytic: 0.686268, relative error: 6.825303e-08\n",
      "numerical: 1.480529 analytic: 1.480529, relative error: 1.401602e-08\n",
      "numerical: 2.269317 analytic: 2.269317, relative error: 4.967644e-09\n",
      "numerical: 1.049816 analytic: 1.049816, relative error: 1.606297e-08\n",
      "numerical: 0.541521 analytic: 0.541521, relative error: 2.606936e-08\n",
      "numerical: 0.101006 analytic: 0.101006, relative error: 2.258519e-07\n",
      "numerical: -0.016948 analytic: -0.016948, relative error: 8.225116e-07\n",
      "numerical: -0.465638 analytic: -0.465639, relative error: 1.391985e-07\n",
      "numerical: -2.019673 analytic: -2.019673, relative error: 7.208695e-09\n",
      "numerical: -0.193339 analytic: -0.193339, relative error: 2.677409e-07\n",
      "numerical: 1.188104 analytic: 1.188104, relative error: 1.279920e-08\n",
      "numerical: -0.409071 analytic: -0.409071, relative error: 5.815294e-09\n",
      "numerical: 1.330684 analytic: 1.330684, relative error: 5.852830e-08\n",
      "numerical: -3.188610 analytic: -3.188610, relative error: 1.875759e-08\n",
      "numerical: 1.243012 analytic: 1.243012, relative error: 1.722684e-08\n",
      "numerical: 2.044263 analytic: 2.044263, relative error: 3.917175e-08\n",
      "numerical: 0.137779 analytic: 0.137779, relative error: 1.849608e-08\n"
     ]
    }
   ],
   "source": [
    "# Complete the implementation of softmax_loss_naive and implement a (naive)\n",
    "# version of the gradient that uses nested loops.\n",
    "loss, grad = softmax_loss_naive(W, X_dev, y_dev, 0.0)\n",
    "\n",
    "# As we did for the SVM, use numeric gradient checking as a debugging tool.\n",
    "# The numeric gradient should be close to the analytic gradient.\n",
    "from cs231n.gradient_check import grad_check_sparse\n",
    "f = lambda w: softmax_loss_naive(w, X_dev, y_dev, 0.0)[0]\n",
    "grad_numerical = grad_check_sparse(f, W, grad, 10)\n",
    "\n",
    "# similar to SVM case, do another gradient check with regularization\n",
    "loss, grad = softmax_loss_naive(W, X_dev, y_dev, 5e1)\n",
    "f = lambda w: softmax_loss_naive(w, X_dev, y_dev, 5e1)[0]\n",
    "grad_numerical = grad_check_sparse(f, W, grad, 10)"
   ]
  },
  {
   "cell_type": "code",
   "execution_count": 12,
   "id": "15f3fbfb",
   "metadata": {},
   "outputs": [
    {
     "name": "stdout",
     "output_type": "stream",
     "text": [
      "w shape: (4, 3)\n",
      "x shape: (5, 4)\n",
      "naive loss: 5.826737e+00 computed in 0.000498s\n",
      "scores: [[  0.   0.   0.]\n",
      " [ 22.  26.  30.]\n",
      " [ 44.  52.  60.]\n",
      " [ 66.  78.  90.]\n",
      " [ 88. 104. 120.]]\n",
      "exp scores: [[1.00000000e+00 1.00000000e+00 1.00000000e+00]\n",
      " [3.35462628e-04 1.83156389e-02 1.00000000e+00]\n",
      " [1.12535175e-07 3.35462628e-04 1.00000000e+00]\n",
      " [3.77513454e-11 6.14421235e-06 1.00000000e+00]\n",
      " [1.26641655e-14 1.12535175e-07 1.00000000e+00]]\n",
      "sums [3.         1.0186511  1.00033558 1.00000614 1.00000011]\n",
      "loss 5.826736673379901\n",
      "ds [[3.33333333e-01 3.33333333e-01 3.33333333e-01]\n",
      " [3.29320439e-04 1.79802867e-02 9.81690393e-01]\n",
      " [1.12497423e-07 3.35350093e-04 9.99664537e-01]\n",
      " [3.77511135e-11 6.14417460e-06 9.99993856e-01]\n",
      " [1.26641641e-14 1.12535162e-07 9.99999887e-01]]\n",
      "Y: [0 0 1 1 2]\n",
      "ds adjust y [[-6.66666667e-01  3.33333333e-01  3.33333333e-01]\n",
      " [-9.99670680e-01  1.79802867e-02  9.81690393e-01]\n",
      " [ 1.12497423e-07 -9.99664650e-01  9.99664537e-01]\n",
      " [ 3.77511135e-11 -9.99993856e-01  9.99993856e-01]\n",
      " [ 1.26641641e-14  1.12535162e-07 -1.12535175e-07]]\n",
      "ds shape (5, 3)\n",
      "vectorized loss: 5.826737e+00 computed in 0.000819s\n",
      "Loss difference: 0.000000\n",
      "Gradient difference: 0.000000\n"
     ]
    }
   ],
   "source": [
    "# Now that we have a naive implementation of the softmax loss function and its gradient,\n",
    "# implement a vectorized version in softmax_loss_vectorized.\n",
    "# The two versions should compute the same results, but the vectorized version should be\n",
    "# much faster.\n",
    "w = np.array([[1,2,3],[4,5,6], [7,8,9], [10,11,12]], dtype = np.float64)  # (D, C)\n",
    "print(\"w shape:\", w.shape)\n",
    "x = np.array([[0,0,0,0], [1, 1, 1, 1], [2, 2,2,2], [3,3,3,3], [4, 4,4,4] ])   # (N, D)\n",
    "print(\"x shape:\", x.shape)\n",
    "y = np.array([0, 0, 1, 1, 2])\n",
    "tic = time.time()\n",
    "loss_naive, grad_naive = softmax_loss_naive(w, x, y, 0.000005)\n",
    "toc = time.time()\n",
    "print('naive loss: %e computed in %fs' % (loss_naive, toc - tic))\n",
    "\n",
    "from cs231n.classifiers.softmax import softmax_loss_vectorized\n",
    "tic = time.time()\n",
    "loss_vectorized, grad_vectorized = softmax_loss_vectorized(w, x, y, 0.000005)\n",
    "toc = time.time()\n",
    "print('vectorized loss: %e computed in %fs' % (loss_vectorized, toc - tic))\n",
    "\n",
    "# As we did for the SVM, we use the Frobenius norm to compare the two versions\n",
    "# of the gradient.\n",
    "grad_difference = np.linalg.norm(grad_naive - grad_vectorized, ord='fro')\n",
    "print('Loss difference: %f' % np.abs(loss_naive - loss_vectorized))\n",
    "print('Gradient difference: %f' % grad_difference)"
   ]
  },
  {
   "cell_type": "code",
   "execution_count": 38,
   "id": "1484b50e",
   "metadata": {},
   "outputs": [
    {
     "name": "stdout",
     "output_type": "stream",
     "text": [
      "naive loss: 2.347950e+00 computed in 0.056820s\n",
      "scores: [[-5.61730743e-01  2.37557133e-01 -9.17190169e-02 ... -2.51791338e-02\n",
      "   1.48088052e-01 -1.30908878e-01]\n",
      " [ 2.28900746e-01  2.55225445e-02 -2.15470551e-03 ... -4.37336308e-01\n",
      "  -5.21714579e-01  1.86590750e-01]\n",
      " [-1.98026249e-01 -7.22022409e-02 -4.11763131e-02 ... -6.63122374e-02\n",
      "  -8.43612433e-02 -6.54088382e-02]\n",
      " ...\n",
      " [-1.21466248e-01 -1.23308360e-01 -4.17778482e-01 ... -5.66066641e-02\n",
      "  -7.20916418e-01 -1.38342049e-01]\n",
      " [-5.55613907e-02  3.56670821e-01  3.56044218e-01 ...  9.77954393e-01\n",
      "   2.02415372e-01 -7.60001974e-02]\n",
      " [ 1.49482649e-01 -3.70439763e-01  1.04907563e-02 ... -2.26691817e-01\n",
      "  -2.66929988e-01 -1.96240197e-04]]\n",
      "exp scores: [[0.28631841 0.63675973 0.45811317 ... 0.489633   0.58226363 0.44050702]\n",
      " [1.         0.81596958 0.79369545 ... 0.51363774 0.47207598 0.95857258]\n",
      " [0.66021051 0.74873322 0.77232749 ... 0.75315628 0.7396845  0.75383699]\n",
      " ...\n",
      " [0.3124396  0.31186458 0.2323161  ... 0.33337593 0.17156479 0.30721117]\n",
      " [0.35575401 0.53725439 0.53691785 ... 1.         0.46045552 0.34855662]\n",
      " [0.94473971 0.56171075 0.82214564 ... 0.64854733 0.62296904 0.81340616]]\n",
      "sums [4.97039904 7.51268036 7.32401852 5.92478681 5.18426271 8.18559765\n",
      " 4.92233996 6.76636718 5.63576898 5.4544101  7.90325841 5.17936545\n",
      " 5.58627802 4.77992249 6.42982119 7.50425265 5.85672631 4.75841799\n",
      " 8.3441138  5.00878621 6.00537298 3.9236157  5.77765876 6.04952667\n",
      " 6.46397532 7.03580782 7.23941497 7.29868259 8.1552639  6.84342397\n",
      " 7.28097606 6.28967447 7.86108019 6.34818104 7.16592717 6.04643616\n",
      " 7.78230501 4.64217053 7.15983769 7.63955384 6.81350497 4.77561418\n",
      " 5.76175228 4.67199301 6.19205751 7.1113379  6.15212479 6.03948064\n",
      " 6.77754958 5.88829145 7.32027329 4.28324381 4.79449805 6.35174988\n",
      " 6.1609259  7.29680461 7.7716443  4.71306508 7.73232824 7.15272178\n",
      " 6.8887839  4.55004374 4.45122225 7.10941367 7.09729556 7.10788931\n",
      " 5.62675851 5.1913986  7.27461305 7.38242388 7.37764842 6.85635997\n",
      " 5.2374004  3.8851305  4.92080226 8.15584467 6.55044349 6.22825142\n",
      " 4.60944824 6.36402881 6.16787282 3.89880436 7.7447338  6.47740885\n",
      " 7.9647754  5.49210799 6.43729035 4.69193423 5.61901764 6.33264895\n",
      " 7.09493575 6.46111657 8.53822503 5.25811786 6.68526926 6.51390866\n",
      " 4.64775587 6.25897753 6.73415202 7.01427912 6.7449155  7.07344547\n",
      " 4.87659214 3.952615   7.65453725 5.71262332 7.80220842 5.16471641\n",
      " 4.86989813 6.72064108 7.35660009 3.66345686 7.40150321 7.34275711\n",
      " 7.73118514 4.09707946 5.32062893 6.1418028  4.89951383 5.96058895\n",
      " 7.2488791  5.69116317 6.92571472 7.28973175 6.41144937 7.08776305\n",
      " 5.34778512 6.10168579 5.63296712 5.69971557 4.63985205 6.7169297\n",
      " 7.34405186 5.90402184 4.79772291 4.17263436 5.81121601 5.87503711\n",
      " 6.80401346 7.4557569  5.35839245 7.33118343 6.06644831 6.61072659\n",
      " 4.56858193 6.28465552 5.84502315 5.0004172  5.78342692 7.77695391\n",
      " 6.51686016 5.86975355 6.74968242 6.09665477 3.31437347 7.04585133\n",
      " 6.58501088 7.38690035 7.09449741 6.75714465 6.17114386 6.44041304\n",
      " 4.13410505 6.80329143 3.66415349 7.88935998 7.31449018 7.82299955\n",
      " 7.91900734 7.07354223 4.22000532 5.43085826 5.56980364 5.46580633\n",
      " 8.16975175 5.75736227 5.00708702 4.08127318 4.66076889 4.59702179\n",
      " 6.90793589 3.91302731 8.3363146  6.88873292 4.42978829 5.28476271\n",
      " 5.00352966 5.52718461 6.96896162 8.52263262 7.61637927 5.01745611\n",
      " 6.04360359 6.72672742 6.58941388 7.02354973 4.49527292 5.65863437\n",
      " 5.88977403 7.57989495 5.85453492 7.20016387 4.70622937 5.97396582\n",
      " 6.7672552  4.32216735 6.5191447  5.55003663 6.67092429 8.11799687\n",
      " 5.89702344 4.2167587  6.16216815 6.25225638 7.78784193 6.43630945\n",
      " 6.08488198 5.66339839 5.75964443 7.02480958 4.68266704 6.55522438\n",
      " 6.65998916 5.73917129 6.628498   6.6351708  7.84632177 8.33449841\n",
      " 6.33613812 4.69700113 6.28054299 6.58227412 7.14861934 6.76163166\n",
      " 3.03469158 5.39100025 4.53745695 3.88038757 6.90374134 7.06565245\n",
      " 5.28283908 5.9297861  7.9137138  3.90300778 5.4681088  5.62030533\n",
      " 5.37686945 6.52998271 6.28792738 8.18922104 7.69553624 5.43039416\n",
      " 5.64345431 5.83358385 6.26691576 6.90258232 6.49228799 7.16311126\n",
      " 4.77199279 8.84629076 6.72993846 7.97396276 7.1561223  6.25846864\n",
      " 4.94489596 7.96116059 6.05167601 6.36642782 5.35385161 7.32301042\n",
      " 4.69767362 6.7029788  5.63313295 5.03913481 6.40232109 5.67766969\n",
      " 5.46290734 4.83650922 6.38869036 4.93060001 5.34026495 7.53162024\n",
      " 4.52083295 6.56815207 5.71576456 4.51374283 6.94547399 7.1922339\n",
      " 7.49348369 5.11195148 4.8526678  5.30142262 5.75904361 4.42388782\n",
      " 6.09597811 7.47616826 4.93888926 4.33194323 5.36351949 4.70560292\n",
      " 4.94908295 4.85936461 6.4096954  5.87496156 6.78232192 8.02187846\n",
      " 6.28471038 6.36212513 4.87733169 4.73047139 4.45561072 3.38018929\n",
      " 6.61591456 6.82020788 5.4374363  4.84298814 7.73917574 5.00358961\n",
      " 5.56703331 5.30287036 4.29632364 6.87712324 6.973112   6.45228586\n",
      " 6.19180691 7.26182265 6.30246412 3.69370707 6.28000425 5.81851329\n",
      " 5.79954847 6.41140727 4.79736434 4.76831129 5.49929717 7.19248556\n",
      " 6.44502303 4.51984265 5.25722125 4.59948108 6.68620114 7.27815844\n",
      " 5.29859119 6.91951027 7.13758794 6.07189328 6.6878573  6.69030595\n",
      " 4.76076044 6.11216527 8.27576335 6.99880865 6.73081694 5.31297825\n",
      " 5.95877798 7.17564081 6.41992795 5.75584943 5.94604262 5.07929369\n",
      " 7.9017417  6.95497773 6.90126154 6.21548311 3.33927156 7.33543233\n",
      " 4.98817204 7.12842614 6.52537795 6.31301062 7.16902303 5.34188892\n",
      " 3.88267806 5.39032874 6.60458097 8.00848673 4.41259565 7.19535502\n",
      " 5.84027847 5.02876613 5.10554954 3.49124336 6.57230135 5.30295979\n",
      " 6.95734336 7.41202372 5.96941966 7.38819775 7.13195636 7.33484329\n",
      " 6.43809996 7.85059268 5.18013865 6.83904342 6.82781151 7.21506403\n",
      " 7.02232444 5.98314098 6.47919153 8.31623035 5.5678032  6.9035254\n",
      " 5.47078152 5.77415013 6.11955331 6.28429716 7.45653975 8.08488618\n",
      " 6.25513452 5.81610339 5.15282689 4.99164697 7.61792042 7.9324574\n",
      " 6.08816711 5.17096009 7.10840046 5.06763536 4.51916034 6.78599444\n",
      " 4.4700434  6.60123911 7.29250907 6.37076608 6.25987155 6.16504561\n",
      " 6.79674307 4.52584529 6.27482994 6.50174131 6.58594002 6.48201783\n",
      " 6.06349912 7.53723012 5.26999514 3.71768445 4.91627714 7.70612186\n",
      " 7.6051176  5.02533909 4.95472801 5.05825804 7.00965798 5.78752123\n",
      " 5.15382742 6.70434879 7.37440273 7.18390524 7.73367776 7.02303413\n",
      " 6.82478735 5.93689998 6.05798255 5.32069904 5.36627681 6.83674621\n",
      " 6.05755839 7.57307736 6.74262699 6.75473968 7.43431885 3.75604432\n",
      " 6.7745626  7.98409017 4.94703137 4.49778705 4.93855529 4.6308962\n",
      " 6.95082467 5.20917205 4.691544   7.02795543 6.85109675 7.12912902\n",
      " 4.2638266  4.77325207 6.44653829 5.85621255 5.64573541 6.46567736\n",
      " 6.38122451 7.42500779 5.93987977 7.71130742 7.32038123 5.39804894\n",
      " 5.23992364 4.12979293 4.27179172 6.78678621 6.61739724 4.01867326\n",
      " 5.87004459 4.33223352 5.93229536 6.00131493 6.39269144 4.17779795\n",
      " 4.73997402 7.56425559]\n",
      "loss 2.347950156802105\n",
      "vectorized loss: 2.347950e+00 computed in 0.004267s\n",
      "Loss difference: 0.000000\n",
      "Gradient difference: 363.656646\n"
     ]
    }
   ],
   "source": [
    "# Now that we have a naive implementation of the softmax loss function and its gradient,\n",
    "# implement a vectorized version in softmax_loss_vectorized.\n",
    "# The two versions should compute the same results, but the vectorized version should be\n",
    "# much faster.\n",
    "tic = time.time()\n",
    "loss_naive, grad_naive = softmax_loss_naive(W, X_dev, y_dev, 0.000005)\n",
    "toc = time.time()\n",
    "print('naive loss: %e computed in %fs' % (loss_naive, toc - tic))\n",
    "\n",
    "from cs231n.classifiers.softmax import softmax_loss_vectorized\n",
    "tic = time.time()\n",
    "loss_vectorized, grad_vectorized = softmax_loss_vectorized(W, X_dev, y_dev, 0.000005)\n",
    "toc = time.time()\n",
    "print('vectorized loss: %e computed in %fs' % (loss_vectorized, toc - tic))\n",
    "\n",
    "# As we did for the SVM, we use the Frobenius norm to compare the two versions\n",
    "# of the gradient.\n",
    "grad_difference = np.linalg.norm(grad_naive - grad_vectorized, ord='fro')\n",
    "print('Loss difference: %f' % np.abs(loss_naive - loss_vectorized))\n",
    "print('Gradient difference: %f' % grad_difference)"
   ]
  },
  {
   "cell_type": "code",
   "execution_count": 24,
   "id": "44c5a94d",
   "metadata": {
    "tags": [
     "code"
    ],
    "test": "tuning"
   },
   "outputs": [
    {
     "name": "stdout",
     "output_type": "stream",
     "text": [
      "best validation accuracy achieved during cross-validation: -1.000000\n"
     ]
    }
   ],
   "source": [
    "# Use the validation set to tune hyperparameters (regularization strength and\n",
    "# learning rate). You should experiment with different ranges for the learning\n",
    "# rates and regularization strengths; if you are careful you should be able to\n",
    "# get a classification accuracy of over 0.35 on the validation set.\n",
    "\n",
    "from cs231n.classifiers import Softmax\n",
    "results = {}\n",
    "best_val = -1\n",
    "best_softmax = None\n",
    "\n",
    "################################################################################\n",
    "# TODO:                                                                        #\n",
    "# Use the validation set to set the learning rate and regularization strength. #\n",
    "# This should be identical to the validation that you did for the SVM; save    #\n",
    "# the best trained softmax classifer in best_softmax.                          #\n",
    "################################################################################\n",
    "\n",
    "# Provided as a reference. You may or may not want to change these hyperparameters\n",
    "learning_rates = [1e-7, 5e-7]\n",
    "regularization_strengths = [2.5e4, 5e4]\n",
    "\n",
    "# *****START OF YOUR CODE (DO NOT DELETE/MODIFY THIS LINE)*****\n",
    "\n",
    "pass\n",
    "\n",
    "# *****END OF YOUR CODE (DO NOT DELETE/MODIFY THIS LINE)*****\n",
    "    \n",
    "# Print out results.\n",
    "for lr, reg in sorted(results):\n",
    "    train_accuracy, val_accuracy = results[(lr, reg)]\n",
    "    print('lr %e reg %e train accuracy: %f val accuracy: %f' % (\n",
    "                lr, reg, train_accuracy, val_accuracy))\n",
    "    \n",
    "print('best validation accuracy achieved during cross-validation: %f' % best_val)"
   ]
  },
  {
   "cell_type": "code",
   "execution_count": null,
   "id": "3f34d9fc",
   "metadata": {
    "test": "test"
   },
   "outputs": [],
   "source": [
    "# evaluate on test set\n",
    "# Evaluate the best softmax on test set\n",
    "y_test_pred = best_softmax.predict(X_test)\n",
    "test_accuracy = np.mean(y_test == y_test_pred)\n",
    "print('softmax on raw pixels final test set accuracy: %f' % (test_accuracy, ))"
   ]
  },
  {
   "cell_type": "markdown",
   "id": "3b8df57b",
   "metadata": {
    "tags": [
     "pdf-inline"
    ]
   },
   "source": [
    "**Inline Question 2** - *True or False*\n",
    "\n",
    "Suppose the overall training loss is defined as the sum of the per-datapoint loss over all training examples. It is possible to add a new datapoint to a training set that would leave the SVM loss unchanged, but this is not the case with the Softmax classifier loss.\n",
    "\n",
    "$\\color{blue}{\\textit Your Answer:}$\n",
    "\n",
    "\n",
    "$\\color{blue}{\\textit Your Explanation:}$\n",
    "\n"
   ]
  },
  {
   "cell_type": "code",
   "execution_count": null,
   "id": "e6e64233",
   "metadata": {},
   "outputs": [],
   "source": [
    "# Visualize the learned weights for each class\n",
    "w = best_softmax.W[:-1,:] # strip out the bias\n",
    "w = w.reshape(32, 32, 3, 10)\n",
    "\n",
    "w_min, w_max = np.min(w), np.max(w)\n",
    "\n",
    "classes = ['plane', 'car', 'bird', 'cat', 'deer', 'dog', 'frog', 'horse', 'ship', 'truck']\n",
    "for i in range(10):\n",
    "    plt.subplot(2, 5, i + 1)\n",
    "    \n",
    "    # Rescale the weights to be between 0 and 255\n",
    "    wimg = 255.0 * (w[:, :, :, i].squeeze() - w_min) / (w_max - w_min)\n",
    "    plt.imshow(wimg.astype('uint8'))\n",
    "    plt.axis('off')\n",
    "    plt.title(classes[i])"
   ]
  },
  {
   "cell_type": "code",
   "execution_count": null,
   "id": "8829cca8",
   "metadata": {},
   "outputs": [],
   "source": []
  }
 ],
 "metadata": {
  "kernelspec": {
   "display_name": "Python 3 (ipykernel)",
   "language": "python",
   "name": "python3"
  },
  "language_info": {
   "codemirror_mode": {
    "name": "ipython",
    "version": 3
   },
   "file_extension": ".py",
   "mimetype": "text/x-python",
   "name": "python",
   "nbconvert_exporter": "python",
   "pygments_lexer": "ipython3",
   "version": "3.12.1"
  }
 },
 "nbformat": 4,
 "nbformat_minor": 5
}
