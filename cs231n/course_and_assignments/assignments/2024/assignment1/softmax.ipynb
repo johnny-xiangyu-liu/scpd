{
 "cells": [
  {
   "cell_type": "code",
   "execution_count": 2,
   "id": "80671e37",
   "metadata": {},
   "outputs": [],
   "source": [
    "# # This mounts your Google Drive to the Colab VM.\n",
    "# from google.colab import drive\n",
    "# drive.mount('/content/drive')\n",
    "\n",
    "# # TODO: Enter the foldername in your Drive where you have saved the unzipped\n",
    "# # assignment folder, e.g. 'cs231n/assignments/assignment1/'\n",
    "# FOLDERNAME = None\n",
    "# assert FOLDERNAME is not None, \"[!] Enter the foldername.\"\n",
    "\n",
    "# # Now that we've mounted your Drive, this ensures that\n",
    "# # the Python interpreter of the Colab VM can load\n",
    "# # python files from within it.\n",
    "# import sys\n",
    "# sys.path.append('/content/drive/My Drive/{}'.format(FOLDERNAME))\n",
    "\n",
    "# # This downloads the CIFAR-10 dataset to your Drive\n",
    "# # if it doesn't already exist.\n",
    "# %cd /content/drive/My\\ Drive/$FOLDERNAME/cs231n/datasets/\n",
    "# !bash get_datasets.sh\n",
    "# %cd /content/drive/My\\ Drive/$FOLDERNAME"
   ]
  },
  {
   "cell_type": "markdown",
   "id": "afb35a06",
   "metadata": {
    "tags": [
     "pdf-title"
    ]
   },
   "source": [
    "# Softmax exercise\n",
    "\n",
    "*Complete and hand in this completed worksheet (including its outputs and any supporting code outside of the worksheet) with your assignment submission. For more details see the [assignments page](http://vision.stanford.edu/teaching/cs231n/assignments.html) on the course website.*\n",
    "\n",
    "This exercise is analogous to the SVM exercise. You will:\n",
    "\n",
    "- implement a fully-vectorized **loss function** for the Softmax classifier\n",
    "- implement the fully-vectorized expression for its **analytic gradient**\n",
    "- **check your implementation** with numerical gradient\n",
    "- use a validation set to **tune the learning rate and regularization** strength\n",
    "- **optimize** the loss function with **SGD**\n",
    "- **visualize** the final learned weights\n"
   ]
  },
  {
   "cell_type": "code",
   "execution_count": 3,
   "id": "51a3efbd",
   "metadata": {
    "tags": [
     "pdf-ignore"
    ]
   },
   "outputs": [],
   "source": [
    "import random\n",
    "import numpy as np\n",
    "from cs231n.data_utils import load_CIFAR10\n",
    "import matplotlib.pyplot as plt\n",
    "\n",
    "%matplotlib inline\n",
    "plt.rcParams['figure.figsize'] = (10.0, 8.0) # set default size of plots\n",
    "plt.rcParams['image.interpolation'] = 'nearest'\n",
    "plt.rcParams['image.cmap'] = 'gray'\n",
    "\n",
    "# for auto-reloading extenrnal modules\n",
    "# see http://stackoverflow.com/questions/1907993/autoreload-of-modules-in-ipython\n",
    "%load_ext autoreload\n",
    "%autoreload 2"
   ]
  },
  {
   "cell_type": "code",
   "execution_count": 4,
   "id": "31008c1e",
   "metadata": {
    "tags": [
     "pdf-ignore"
    ]
   },
   "outputs": [
    {
     "name": "stdout",
     "output_type": "stream",
     "text": [
      "Train data shape:  (49000, 3073)\n",
      "Train labels shape:  (49000,)\n",
      "Validation data shape:  (1000, 3073)\n",
      "Validation labels shape:  (1000,)\n",
      "Test data shape:  (1000, 3073)\n",
      "Test labels shape:  (1000,)\n",
      "dev data shape:  (500, 3073)\n",
      "dev labels shape:  (500,)\n"
     ]
    }
   ],
   "source": [
    "def get_CIFAR10_data(num_training=49000, num_validation=1000, num_test=1000, num_dev=500):\n",
    "    \"\"\"\n",
    "    Load the CIFAR-10 dataset from disk and perform preprocessing to prepare\n",
    "    it for the linear classifier. These are the same steps as we used for the\n",
    "    SVM, but condensed to a single function.  \n",
    "    \"\"\"\n",
    "    # Load the raw CIFAR-10 data\n",
    "    cifar10_dir = 'cs231n/datasets/cifar-10-batches-py'\n",
    "    \n",
    "    # Cleaning up variables to prevent loading data multiple times (which may cause memory issue)\n",
    "    try:\n",
    "       del X_train, y_train\n",
    "       del X_test, y_test\n",
    "       print('Clear previously loaded data.')\n",
    "    except:\n",
    "       pass\n",
    "\n",
    "    X_train, y_train, X_test, y_test = load_CIFAR10(cifar10_dir)\n",
    "    \n",
    "    # subsample the data\n",
    "    mask = list(range(num_training, num_training + num_validation))\n",
    "    X_val = X_train[mask]\n",
    "    y_val = y_train[mask]\n",
    "    mask = list(range(num_training))\n",
    "    X_train = X_train[mask]\n",
    "    y_train = y_train[mask]\n",
    "    mask = list(range(num_test))\n",
    "    X_test = X_test[mask]\n",
    "    y_test = y_test[mask]\n",
    "    mask = np.random.choice(num_training, num_dev, replace=False)\n",
    "    X_dev = X_train[mask]\n",
    "    y_dev = y_train[mask]\n",
    "    \n",
    "    # Preprocessing: reshape the image data into rows\n",
    "    X_train = np.reshape(X_train, (X_train.shape[0], -1))\n",
    "    X_val = np.reshape(X_val, (X_val.shape[0], -1))\n",
    "    X_test = np.reshape(X_test, (X_test.shape[0], -1))\n",
    "    X_dev = np.reshape(X_dev, (X_dev.shape[0], -1))\n",
    "    \n",
    "    # Normalize the data: subtract the mean image\n",
    "    mean_image = np.mean(X_train, axis = 0)\n",
    "    X_train -= mean_image\n",
    "    X_val -= mean_image\n",
    "    X_test -= mean_image\n",
    "    X_dev -= mean_image\n",
    "    \n",
    "    # add bias dimension and transform into columns\n",
    "    X_train = np.hstack([X_train, np.ones((X_train.shape[0], 1))])\n",
    "    X_val = np.hstack([X_val, np.ones((X_val.shape[0], 1))])\n",
    "    X_test = np.hstack([X_test, np.ones((X_test.shape[0], 1))])\n",
    "    X_dev = np.hstack([X_dev, np.ones((X_dev.shape[0], 1))])\n",
    "    \n",
    "    return X_train, y_train, X_val, y_val, X_test, y_test, X_dev, y_dev\n",
    "\n",
    "\n",
    "# Invoke the above function to get our data.\n",
    "X_train, y_train, X_val, y_val, X_test, y_test, X_dev, y_dev = get_CIFAR10_data()\n",
    "print('Train data shape: ', X_train.shape)\n",
    "print('Train labels shape: ', y_train.shape)\n",
    "print('Validation data shape: ', X_val.shape)\n",
    "print('Validation labels shape: ', y_val.shape)\n",
    "print('Test data shape: ', X_test.shape)\n",
    "print('Test labels shape: ', y_test.shape)\n",
    "print('dev data shape: ', X_dev.shape)\n",
    "print('dev labels shape: ', y_dev.shape)"
   ]
  },
  {
   "cell_type": "markdown",
   "id": "768cefce",
   "metadata": {},
   "source": [
    "## Softmax Classifier\n",
    "\n",
    "Your code for this section will all be written inside `cs231n/classifiers/softmax.py`.\n"
   ]
  },
  {
   "cell_type": "code",
   "execution_count": 5,
   "id": "419ad193",
   "metadata": {},
   "outputs": [
    {
     "name": "stdout",
     "output_type": "stream",
     "text": [
      "loss: 2.354988\n",
      "sanity check: 2.302585\n"
     ]
    }
   ],
   "source": [
    "# First implement the naive softmax loss function with nested loops.\n",
    "# Open the file cs231n/classifiers/softmax.py and implement the\n",
    "# softmax_loss_naive function.\n",
    "\n",
    "from cs231n.classifiers.softmax import softmax_loss_naive\n",
    "import time\n",
    "\n",
    "# Generate a random softmax weight matrix and use it to compute the loss.\n",
    "W = np.random.randn(3073, 10) * 0.0001\n",
    "loss, grad = softmax_loss_naive(W, X_dev, y_dev, 0.0)\n",
    "\n",
    "# As a rough sanity check, our loss should be something close to -log(0.1).\n",
    "print('loss: %f' % loss)\n",
    "print('sanity check: %f' % (-np.log(0.1)))"
   ]
  },
  {
   "cell_type": "markdown",
   "id": "18ecfecd",
   "metadata": {
    "tags": [
     "pdf-inline"
    ]
   },
   "source": [
    "**Inline Question 1**\n",
    "\n",
    "Why do we expect our loss to be close to -log(0.1)? Explain briefly.**\n",
    "\n",
    "$\\color{blue}{\\textit Your Answer:}$ because the weight is generated randomly, softmax is making a random guess. for a 10-class classification, a random guess has the accuracy of 10%, so $ \\frac{e^{f_{y_i}}}{\\sum_j{e^{f_j}}} = 0.1$, hence the loss is $-np.log(0.1)$\n",
    "\n"
   ]
  },
  {
   "cell_type": "code",
   "execution_count": 6,
   "id": "721f4415",
   "metadata": {},
   "outputs": [
    {
     "name": "stdout",
     "output_type": "stream",
     "text": [
      "numerical: -2.728362 analytic: -2.728362, relative error: 2.028532e-08\n",
      "numerical: -2.802716 analytic: -2.802716, relative error: 2.308090e-08\n",
      "numerical: -0.278885 analytic: -0.278885, relative error: 8.841593e-08\n",
      "numerical: 0.686268 analytic: 0.686268, relative error: 6.825303e-08\n",
      "numerical: 1.480529 analytic: 1.480529, relative error: 1.401602e-08\n",
      "numerical: 2.269317 analytic: 2.269317, relative error: 4.967644e-09\n",
      "numerical: 1.049816 analytic: 1.049816, relative error: 1.606297e-08\n",
      "numerical: 0.541521 analytic: 0.541521, relative error: 2.606936e-08\n",
      "numerical: 0.101006 analytic: 0.101006, relative error: 2.258519e-07\n",
      "numerical: -0.016948 analytic: -0.016948, relative error: 8.225116e-07\n",
      "numerical: -0.465638 analytic: -0.465639, relative error: 1.391985e-07\n",
      "numerical: -2.019673 analytic: -2.019673, relative error: 7.208695e-09\n",
      "numerical: -0.193339 analytic: -0.193339, relative error: 2.677409e-07\n",
      "numerical: 1.188104 analytic: 1.188104, relative error: 1.279920e-08\n",
      "numerical: -0.409071 analytic: -0.409071, relative error: 5.815294e-09\n",
      "numerical: 1.330684 analytic: 1.330684, relative error: 5.852830e-08\n",
      "numerical: -3.188610 analytic: -3.188610, relative error: 1.875759e-08\n",
      "numerical: 1.243012 analytic: 1.243012, relative error: 1.722684e-08\n",
      "numerical: 2.044263 analytic: 2.044263, relative error: 3.917175e-08\n",
      "numerical: 0.137779 analytic: 0.137779, relative error: 1.849608e-08\n"
     ]
    }
   ],
   "source": [
    "# Complete the implementation of softmax_loss_naive and implement a (naive)\n",
    "# version of the gradient that uses nested loops.\n",
    "loss, grad = softmax_loss_naive(W, X_dev, y_dev, 0.0)\n",
    "\n",
    "# As we did for the SVM, use numeric gradient checking as a debugging tool.\n",
    "# The numeric gradient should be close to the analytic gradient.\n",
    "from cs231n.gradient_check import grad_check_sparse\n",
    "f = lambda w: softmax_loss_naive(w, X_dev, y_dev, 0.0)[0]\n",
    "grad_numerical = grad_check_sparse(f, W, grad, 10)\n",
    "\n",
    "# similar to SVM case, do another gradient check with regularization\n",
    "loss, grad = softmax_loss_naive(W, X_dev, y_dev, 5e1)\n",
    "f = lambda w: softmax_loss_naive(w, X_dev, y_dev, 5e1)[0]\n",
    "grad_numerical = grad_check_sparse(f, W, grad, 10)"
   ]
  },
  {
   "cell_type": "code",
   "execution_count": 13,
   "id": "94295a1b",
   "metadata": {},
   "outputs": [
    {
     "name": "stdout",
     "output_type": "stream",
     "text": [
      "w shape: (4, 3)\n",
      "x shape: (5, 4)\n",
      "naive loss: 5.826737e+00 computed in 0.000523s\n",
      "vectorized loss: 5.826737e+00 computed in 0.000129s\n",
      "Loss difference: 0.000000\n",
      "Gradient difference: 0.000000\n"
     ]
    }
   ],
   "source": [
    "# # Debug copies\n",
    "# w = np.array([[1,2,3],[4,5,6], [7,8,9], [10,11,12]], dtype = np.float64)  # (D, C)\n",
    "# print(\"w shape:\", w.shape)\n",
    "# x = np.array([[0,0,0,0], [1, 1, 1, 1], [2, 2,2,2], [3,3,3,3], [4, 4,4,4] ])   # (N, D)\n",
    "# print(\"x shape:\", x.shape)\n",
    "# y = np.array([0, 0, 1, 1, 2])\n",
    "# tic = time.time()\n",
    "# loss_naive, grad_naive = softmax_loss_naive(w, x, y, 0.000005)\n",
    "# toc = time.time()\n",
    "# print('naive loss: %e computed in %fs' % (loss_naive, toc - tic))\n",
    "\n",
    "# from cs231n.classifiers.softmax import softmax_loss_vectorized\n",
    "# tic = time.time()\n",
    "# loss_vectorized, grad_vectorized = softmax_loss_vectorized(w, x, y, 0.000005)\n",
    "# toc = time.time()\n",
    "# print('vectorized loss: %e computed in %fs' % (loss_vectorized, toc - tic))\n",
    "\n",
    "# # As we did for the SVM, we use the Frobenius norm to compare the two versions\n",
    "# # of the gradient.\n",
    "# grad_difference = np.linalg.norm(grad_naive - grad_vectorized, ord='fro')\n",
    "# print('Loss difference: %f' % np.abs(loss_naive - loss_vectorized))\n",
    "# print('Gradient difference: %f' % grad_difference)"
   ]
  },
  {
   "cell_type": "code",
   "execution_count": 14,
   "id": "2915f5f1",
   "metadata": {},
   "outputs": [
    {
     "name": "stdout",
     "output_type": "stream",
     "text": [
      "naive loss: 2.354988e+00 computed in 0.056571s\n",
      "vectorized loss: 2.354988e+00 computed in 0.002247s\n",
      "Loss difference: 0.000000\n",
      "Gradient difference: 0.000000\n"
     ]
    }
   ],
   "source": [
    "# Now that we have a naive implementation of the softmax loss function and its gradient,\n",
    "# implement a vectorized version in softmax_loss_vectorized.\n",
    "# The two versions should compute the same results, but the vectorized version should be\n",
    "# much faster.\n",
    "tic = time.time()\n",
    "loss_naive, grad_naive = softmax_loss_naive(W, X_dev, y_dev, 0.000005)\n",
    "toc = time.time()\n",
    "print('naive loss: %e computed in %fs' % (loss_naive, toc - tic))\n",
    "\n",
    "from cs231n.classifiers.softmax import softmax_loss_vectorized\n",
    "tic = time.time()\n",
    "loss_vectorized, grad_vectorized = softmax_loss_vectorized(W, X_dev, y_dev, 0.000005)\n",
    "toc = time.time()\n",
    "print('vectorized loss: %e computed in %fs' % (loss_vectorized, toc - tic))\n",
    "\n",
    "# As we did for the SVM, we use the Frobenius norm to compare the two versions\n",
    "# of the gradient.\n",
    "grad_difference = np.linalg.norm(grad_naive - grad_vectorized, ord='fro')\n",
    "print('Loss difference: %f' % np.abs(loss_naive - loss_vectorized))\n",
    "print('Gradient difference: %f' % grad_difference)"
   ]
  },
  {
   "cell_type": "code",
   "execution_count": 20,
   "id": "cbfde4e0",
   "metadata": {
    "tags": [
     "code"
    ],
    "test": "tuning"
   },
   "outputs": [
    {
     "name": "stdout",
     "output_type": "stream",
     "text": [
      "[0.001, 0.0001, 1e-05, 1e-06, 1e-07]\n",
      "[10000, 1000, 100, 10, 1]\n",
      ">> lr: 0.001 , reg: 10000 val accuracy: 0.087\n",
      ">> lr: 0.001 , reg: 1000 val accuracy: 0.133\n",
      ">> lr: 0.001 , reg: 100 val accuracy: 0.196\n",
      ">> lr: 0.001 , reg: 10 val accuracy: 0.222\n",
      ">> lr: 0.001 , reg: 1 val accuracy: 0.288\n",
      ">> lr: 0.0001 , reg: 10000 val accuracy: 0.094\n",
      ">> lr: 0.0001 , reg: 1000 val accuracy: 0.16\n",
      ">> lr: 0.0001 , reg: 100 val accuracy: 0.25\n",
      ">> lr: 0.0001 , reg: 10 val accuracy: 0.231\n",
      ">> lr: 0.0001 , reg: 1 val accuracy: 0.293\n",
      ">> lr: 1e-05 , reg: 10000 val accuracy: 0.219\n",
      ">> lr: 1e-05 , reg: 1000 val accuracy: 0.257\n",
      ">> lr: 1e-05 , reg: 100 val accuracy: 0.361\n",
      ">> lr: 1e-05 , reg: 10 val accuracy: 0.318\n",
      ">> lr: 1e-05 , reg: 1 val accuracy: 0.335\n",
      ">> lr: 1e-06 , reg: 10000 val accuracy: 0.351\n",
      ">> lr: 1e-06 , reg: 1000 val accuracy: 0.401\n",
      ">> lr: 1e-06 , reg: 100 val accuracy: 0.37\n",
      ">> lr: 1e-06 , reg: 10 val accuracy: 0.328\n",
      ">> lr: 1e-06 , reg: 1 val accuracy: 0.336\n",
      ">> lr: 1e-07 , reg: 10000 val accuracy: 0.377\n",
      ">> lr: 1e-07 , reg: 1000 val accuracy: 0.269\n",
      ">> lr: 1e-07 , reg: 100 val accuracy: 0.254\n",
      ">> lr: 1e-07 , reg: 10 val accuracy: 0.26\n",
      ">> lr: 1e-07 , reg: 1 val accuracy: 0.243\n",
      "lr 1.000000e-07 reg 1.000000e+00 train accuracy: 0.247245 val accuracy: 0.243000\n",
      "lr 1.000000e-07 reg 1.000000e+01 train accuracy: 0.246776 val accuracy: 0.260000\n",
      "lr 1.000000e-07 reg 1.000000e+02 train accuracy: 0.250041 val accuracy: 0.254000\n",
      "lr 1.000000e-07 reg 1.000000e+03 train accuracy: 0.259388 val accuracy: 0.269000\n",
      "lr 1.000000e-07 reg 1.000000e+04 train accuracy: 0.353653 val accuracy: 0.377000\n",
      "lr 1.000000e-06 reg 1.000000e+00 train accuracy: 0.348122 val accuracy: 0.336000\n",
      "lr 1.000000e-06 reg 1.000000e+01 train accuracy: 0.343714 val accuracy: 0.328000\n",
      "lr 1.000000e-06 reg 1.000000e+02 train accuracy: 0.364469 val accuracy: 0.370000\n",
      "lr 1.000000e-06 reg 1.000000e+03 train accuracy: 0.399857 val accuracy: 0.401000\n",
      "lr 1.000000e-06 reg 1.000000e+04 train accuracy: 0.357061 val accuracy: 0.351000\n",
      "lr 1.000000e-05 reg 1.000000e+00 train accuracy: 0.347490 val accuracy: 0.335000\n",
      "lr 1.000000e-05 reg 1.000000e+01 train accuracy: 0.338102 val accuracy: 0.318000\n",
      "lr 1.000000e-05 reg 1.000000e+02 train accuracy: 0.346163 val accuracy: 0.361000\n",
      "lr 1.000000e-05 reg 1.000000e+03 train accuracy: 0.245510 val accuracy: 0.257000\n",
      "lr 1.000000e-05 reg 1.000000e+04 train accuracy: 0.202347 val accuracy: 0.219000\n",
      "lr 1.000000e-04 reg 1.000000e+00 train accuracy: 0.304265 val accuracy: 0.293000\n",
      "lr 1.000000e-04 reg 1.000000e+01 train accuracy: 0.241531 val accuracy: 0.231000\n",
      "lr 1.000000e-04 reg 1.000000e+02 train accuracy: 0.249653 val accuracy: 0.250000\n",
      "lr 1.000000e-04 reg 1.000000e+03 train accuracy: 0.156469 val accuracy: 0.160000\n",
      "lr 1.000000e-04 reg 1.000000e+04 train accuracy: 0.098776 val accuracy: 0.094000\n",
      "lr 1.000000e-03 reg 1.000000e+00 train accuracy: 0.266408 val accuracy: 0.288000\n",
      "lr 1.000000e-03 reg 1.000000e+01 train accuracy: 0.215306 val accuracy: 0.222000\n",
      "lr 1.000000e-03 reg 1.000000e+02 train accuracy: 0.191918 val accuracy: 0.196000\n",
      "lr 1.000000e-03 reg 1.000000e+03 train accuracy: 0.136306 val accuracy: 0.133000\n",
      "lr 1.000000e-03 reg 1.000000e+04 train accuracy: 0.100265 val accuracy: 0.087000\n",
      "best validation accuracy achieved during cross-validation: 0.401000\n"
     ]
    }
   ],
   "source": [
    "# Use the validation set to tune hyperparameters (regularization strength and\n",
    "# learning rate). You should experiment with different ranges for the learning\n",
    "# rates and regularization strengths; if you are careful you should be able to\n",
    "# get a classification accuracy of over 0.35 on the validation set.\n",
    "\n",
    "from cs231n.classifiers import Softmax\n",
    "results = {}\n",
    "best_val = -1\n",
    "best_softmax = None\n",
    "\n",
    "################################################################################\n",
    "# TODO:                                                                        #\n",
    "# Use the validation set to set the learning rate and regularization strength. #\n",
    "# This should be identical to the validation that you did for the SVM; save    #\n",
    "# the best trained softmax classifer in best_softmax.                          #\n",
    "################################################################################\n",
    "\n",
    "# Provided as a reference. You may or may not want to change these hyperparameters\n",
    "learning_rates = [1e-7, 5e-7]\n",
    "regularization_strengths = [2.5e4, 5e4]\n",
    "\n",
    "# *****START OF YOUR CODE (DO NOT DELETE/MODIFY THIS LINE)*****\n",
    "size = 5\n",
    "lrs = [10**(-3-i) for i in range(size)] \n",
    "regs = [10**(size - i -1) for i in range(size)]\n",
    "print(lrs)\n",
    "print(regs)\n",
    "for lr in lrs:\n",
    "    for reg in regs:\n",
    "        model = Softmax()\n",
    "        \n",
    "        model.train(X_train, y_train, learning_rate=lr, reg=reg,\n",
    "                      num_iters=1500, verbose=False)\n",
    "        \n",
    "        y_train_pred = model.predict(X_train)\n",
    "        train_accuracy = np.mean(y_train == y_train_pred)\n",
    "        y_val_pred = model.predict(X_val)\n",
    "        val_accuracy = np.mean(y_val == y_val_pred)\n",
    "        results[(lr, reg)] = (train_accuracy, val_accuracy)\n",
    "        \n",
    "        print(\">> lr:\", lr, \", reg:\", reg, \"val accuracy:\", val_accuracy)\n",
    "        if best_val < val_accuracy:\n",
    "            best_val = val_accuracy\n",
    "            best_softmax = model\n",
    "# best lr 1.000000e-06 reg 1.000000e+03 train accuracy: 0.399857 val accuracy: 0.401000\n",
    "\n",
    "\n",
    "# *****END OF YOUR CODE (DO NOT DELETE/MODIFY THIS LINE)*****\n",
    "    \n",
    "# Print out results.\n",
    "for lr, reg in sorted(results):\n",
    "    train_accuracy, val_accuracy = results[(lr, reg)]\n",
    "    print('lr %e reg %e train accuracy: %f val accuracy: %f' % (\n",
    "                lr, reg, train_accuracy, val_accuracy))\n",
    "    \n",
    "print('best validation accuracy achieved during cross-validation: %f' % best_val)"
   ]
  },
  {
   "cell_type": "code",
   "execution_count": 21,
   "id": "846d7e30",
   "metadata": {
    "test": "test"
   },
   "outputs": [
    {
     "name": "stdout",
     "output_type": "stream",
     "text": [
      "softmax on raw pixels final test set accuracy: 0.392000\n"
     ]
    }
   ],
   "source": [
    "# evaluate on test set\n",
    "# Evaluate the best softmax on test set\n",
    "y_test_pred = best_softmax.predict(X_test)\n",
    "test_accuracy = np.mean(y_test == y_test_pred)\n",
    "print('softmax on raw pixels final test set accuracy: %f' % (test_accuracy, ))"
   ]
  },
  {
   "cell_type": "markdown",
   "id": "23c0145c",
   "metadata": {
    "tags": [
     "pdf-inline"
    ]
   },
   "source": [
    "**Inline Question 2** - *True or False*\n",
    "\n",
    "Suppose the overall training loss is defined as the sum of the per-datapoint loss over all training examples. It is possible to add a new datapoint to a training set that would leave the SVM loss unchanged, but this is not the case with the Softmax classifier loss.\n",
    "\n",
    "$\\color{blue}{\\textit Your Answer:}$\n",
    "\n",
    "Yes, it's possible\n",
    "\n",
    "$\\color{blue}{\\textit Your Explanation:}$ SVM loss doesn't change as long the magin between the correct class and incorret class is larger than the delta. However, Softmax loss uses all the training data to calculate the probabilities. Therefore, it's possible to add a new datapoint that could leave SVM loss unchanged.\n",
    "\n"
   ]
  },
  {
   "cell_type": "code",
   "execution_count": 22,
   "id": "f4f8d36c",
   "metadata": {},
   "outputs": [
    {
     "data": {
      "image/png": "[encoded data removed]",
      "text/plain": [
       "<Figure size 1000x800 with 10 Axes>"
      ]
     },
     "metadata": {},
     "output_type": "display_data"
    }
   ],
   "source": [
    "# Visualize the learned weights for each class\n",
    "w = best_softmax.W[:-1,:] # strip out the bias\n",
    "w = w.reshape(32, 32, 3, 10)\n",
    "\n",
    "w_min, w_max = np.min(w), np.max(w)\n",
    "\n",
    "classes = ['plane', 'car', 'bird', 'cat', 'deer', 'dog', 'frog', 'horse', 'ship', 'truck']\n",
    "for i in range(10):\n",
    "    plt.subplot(2, 5, i + 1)\n",
    "    \n",
    "    # Rescale the weights to be between 0 and 255\n",
    "    wimg = 255.0 * (w[:, :, :, i].squeeze() - w_min) / (w_max - w_min)\n",
    "    plt.imshow(wimg.astype('uint8'))\n",
    "    plt.axis('off')\n",
    "    plt.title(classes[i])"
   ]
  }
 ],
 "metadata": {
  "kernelspec": {
   "display_name": "Python 3 (ipykernel)",
   "language": "python",
   "name": "python3"
  },
  "language_info": {
   "codemirror_mode": {
    "name": "ipython",
    "version": 3
   },
   "file_extension": ".py",
   "mimetype": "text/x-python",
   "name": "python",
   "nbconvert_exporter": "python",
   "pygments_lexer": "ipython3",
   "version": "3.12.1"
  }
 },
 "nbformat": 4,
 "nbformat_minor": 5
}
